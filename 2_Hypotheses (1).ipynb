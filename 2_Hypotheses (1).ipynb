{
 "cells": [
  {
   "cell_type": "markdown",
   "id": "ddcf6110",
   "metadata": {},
   "source": [
    "## Гипотезы"
   ]
  },
  {
   "cell_type": "markdown",
   "id": "08cbfe13",
   "metadata": {},
   "source": [
    "1. площадь влияет на цену (H0: признаки независимы)\n",
    "2. разница матожиданий стоимостей квартир в ЗАО и ВАО,ЮЗАО и СЗАО равна нулю (Н0: $\\mu_1$ = $\\mu_2$, используем ttest)\n",
    "3. первичное жилье дороже вторичного (H0: $\\mu_1$ = $\\mu_2$, H1: $\\mu_1$ > $\\mu_2$)\n",
    "4. квартиры в малоэтажных домах дороже (до 15 этажа) \n",
    "5. студии дороже, чем однокомнатные и двухкомнатные квартиры (отдельно сравним МО однокомнатных квартир и МО двухкомнатных квартир с МО студии)\n",
    "6. расстояние до центра города влияет на цену (Н0: признаки независимы)"
   ]
  },
  {
   "cell_type": "markdown",
   "id": "7e7f3a8c",
   "metadata": {},
   "source": [
    "**1.** **Проверим наличие связи между площадью квартиры и ее ценой, используя коэффициент корреляции Пирсона.**"
   ]
  },
  {
   "cell_type": "code",
   "execution_count": 42,
   "id": "ca9a4b26",
   "metadata": {},
   "outputs": [
    {
     "data": {
      "text/plain": [
       "(0.7395585334201134, 0.0)"
      ]
     },
     "execution_count": 42,
     "metadata": {},
     "output_type": "execute_result"
    }
   ],
   "source": [
    "from scipy.stats import pearsonr\n",
    "pearsonr(our_df2['price'], our_df2['area'])"
   ]
  },
  {
   "cell_type": "markdown",
   "id": "c2ba0c6c",
   "metadata": {},
   "source": [
    "В ходе проверки гипотезы о независимости мы выяснили, что нулевая гипотеза отвергается. То есть, существующая связь между переменными является статистически значимой. Более того, значение коэффициента корреляции довольно близко к единице, что указывает на положительную линейную зависимость."
   ]
  },
  {
   "cell_type": "markdown",
   "id": "18a5245f",
   "metadata": {},
   "source": [
    "**2. Разница матожиданий стоимостей квартир в ЗАО и ВАО, ЮЗАО и СЗАО равна нулю** \n",
    "\n",
    "Н0: $\\mu_1$ = $\\mu_2$ (используем ttest, двусторонняя альтернативная гипотеза)"
   ]
  },
  {
   "cell_type": "markdown",
   "id": "3b55d67b",
   "metadata": {},
   "source": [
    "После промежуточного дедлайна мы поняли, что округа для этого теста выбрали по диаграмме, которая отражала максимальные значения в каждом из округов. Для большей корректности мы построили столбчатые диаграммы по средним и медианным значениям и по ним выбрали, какие округа будем проверять на равенство мат ожиданий."
   ]
  },
  {
   "cell_type": "code",
   "execution_count": 43,
   "id": "527b7667",
   "metadata": {},
   "outputs": [
    {
     "data": {
      "text/plain": [
       "{'ЗАО': 29716934.49665121,\n",
       " 'ВАО': 12338216.950036738,\n",
       " 'ЮВАО': 11195743.443055555,\n",
       " 'ЮЗАО': 19679699.229714286,\n",
       " 'СЗАО': 26130738.719491526,\n",
       " 'ЦАО': 72588003.9955074,\n",
       " 'СВАО': 14527841.275672173,\n",
       " 'САО': 21842584.230312034,\n",
       " 'ЮАО': 11692965.50314136}"
      ]
     },
     "execution_count": 43,
     "metadata": {},
     "output_type": "execute_result"
    }
   ],
   "source": [
    "a = dict()\n",
    "for i in our_df2['district'].unique():\n",
    "    a[f'{i}'] = our_df2[our_df2['district'] == i]['price'].mean()   \n",
    "a"
   ]
  },
  {
   "cell_type": "code",
   "execution_count": 44,
   "id": "d520ed4f",
   "metadata": {},
   "outputs": [
    {
     "data": {
      "image/png": "[encoded data removed]",
      "text/plain": [
       "<Figure size 432x288 with 1 Axes>"
      ]
     },
     "metadata": {
      "needs_background": "light"
     },
     "output_type": "display_data"
    }
   ],
   "source": [
    "plt.bar(a.keys(), a.values())\n",
    "plt.xlabel(\"Округ\")\n",
    "plt.ylabel(\"Цена, млрд руб.\")\n",
    "plt.title('Столбчатая диаграмма зависимости средней цены на квартиру в Москве от округа')\n",
    "plt.show()"
   ]
  },
  {
   "cell_type": "markdown",
   "id": "116a7a14",
   "metadata": {},
   "source": [
    "По этой диаграмме видно, что следует проверить гипотезу о равенстве мат ожиданий цен в ЮЗАО и САО, а также сранвить между собой ВАО, ЮАО и ЮВАО."
   ]
  },
  {
   "cell_type": "code",
   "execution_count": 45,
   "id": "45588ecd",
   "metadata": {},
   "outputs": [],
   "source": [
    "yzao = our_df2[our_df1['district']=='ЮЗАО']['price'].to_list()\n",
    "sao = our_df2[our_df1['district']=='САО']['price'].to_list()\n",
    "vao = our_df2[our_df1['district']=='ВАО']['price'].to_list()\n",
    "yao = our_df2[our_df1['district']=='ЮАО']['price'].to_list()\n",
    "yvao = our_df2[our_df1['district']=='ЮВАО']['price'].to_list()"
   ]
  },
  {
   "cell_type": "code",
   "execution_count": 46,
   "id": "d2512e46",
   "metadata": {},
   "outputs": [
    {
     "data": {
      "text/plain": [
       "Ttest_indResult(statistic=-3.143743914838815, pvalue=0.0016779571036478775)"
      ]
     },
     "execution_count": 46,
     "metadata": {},
     "output_type": "execute_result"
    }
   ],
   "source": [
    "from scipy.stats import ttest_ind\n",
    "ttest_ind(yzao, sao)"
   ]
  },
  {
   "cell_type": "code",
   "execution_count": 47,
   "id": "328d94b9",
   "metadata": {},
   "outputs": [
    {
     "data": {
      "text/plain": [
       "Ttest_indResult(statistic=2.365038198445968, pvalue=0.018069214520209438)"
      ]
     },
     "execution_count": 47,
     "metadata": {},
     "output_type": "execute_result"
    }
   ],
   "source": [
    "ttest_ind(vao, yao)"
   ]
  },
  {
   "cell_type": "code",
   "execution_count": 48,
   "id": "df54c065",
   "metadata": {},
   "outputs": [
    {
     "data": {
      "text/plain": [
       "Ttest_indResult(statistic=-4.435872979972916, pvalue=9.371697178874657e-06)"
      ]
     },
     "execution_count": 48,
     "metadata": {},
     "output_type": "execute_result"
    }
   ],
   "source": [
    "ttest_ind(yvao, vao)"
   ]
  },
  {
   "cell_type": "code",
   "execution_count": 49,
   "id": "92129196",
   "metadata": {},
   "outputs": [
    {
     "data": {
      "text/plain": [
       "Ttest_indResult(statistic=2.7845104204701454, pvalue=0.0053856485614466555)"
      ]
     },
     "execution_count": 49,
     "metadata": {},
     "output_type": "execute_result"
    }
   ],
   "source": [
    "ttest_ind(yao, yvao)"
   ]
  },
  {
   "cell_type": "markdown",
   "id": "6aa7777e",
   "metadata": {},
   "source": [
    "Видно, что гипотеза о равенстве мат ожиданий цен на квартиру в ВАО и ЮАО не отвергается на уровне значимости 1%. В других иследованных парах отвергается на любых разумных уровнях значимости."
   ]
  },
  {
   "cell_type": "code",
   "execution_count": 50,
   "id": "b7e04e99",
   "metadata": {},
   "outputs": [
    {
     "data": {
      "text/plain": [
       "{'ЗАО': 18600000.0,\n",
       " 'ВАО': 10020000.0,\n",
       " 'ЮВАО': 9990000.0,\n",
       " 'ЮЗАО': 13700000.0,\n",
       " 'СЗАО': 19000000.0,\n",
       " 'ЦАО': 31200000.0,\n",
       " 'СВАО': 11864281.0,\n",
       " 'САО': 16568150.0,\n",
       " 'ЮАО': 10500000.0}"
      ]
     },
     "execution_count": 50,
     "metadata": {},
     "output_type": "execute_result"
    }
   ],
   "source": [
    "a1 = dict()\n",
    "for i in our_df2['district'].unique():\n",
    "    a1[f'{i}'] = our_df2[our_df2['district'] == i]['price'].median()   \n",
    "a1"
   ]
  },
  {
   "cell_type": "code",
   "execution_count": 51,
   "id": "0f7cd2e1",
   "metadata": {},
   "outputs": [
    {
     "data": {
      "image/png": "[encoded data removed]",
      "text/plain": [
       "<Figure size 432x288 with 1 Axes>"
      ]
     },
     "metadata": {
      "needs_background": "light"
     },
     "output_type": "display_data"
    }
   ],
   "source": [
    "plt.bar(a1.keys(), a1.values())\n",
    "plt.xlabel(\"Округ\")\n",
    "plt.ylabel(\"Цена, млрд руб.\")\n",
    "plt.title('Столбчатая диаграмма зависимости медианной цены на квартиру в Москве от округа')\n",
    "plt.show()"
   ]
  },
  {
   "cell_type": "markdown",
   "id": "f625b97d",
   "metadata": {},
   "source": [
    "Анализируя столбчатую диаграмму для медианных цен, прослеживаются похожие тенденции (как со средними значениями). Кроме того, можно проверить равенство мат ожиданий цен в СЗАО и ЗАО."
   ]
  },
  {
   "cell_type": "code",
   "execution_count": 52,
   "id": "be4414ee",
   "metadata": {},
   "outputs": [],
   "source": [
    "szao = our_df2[our_df2['district'] == 'СЗАО']['price'].to_list()\n",
    "zao = our_df2[our_df2['district'] == 'ЗАО']['price'].to_list()"
   ]
  },
  {
   "cell_type": "code",
   "execution_count": 53,
   "id": "63b4f579",
   "metadata": {},
   "outputs": [
    {
     "data": {
      "text/plain": [
       "Ttest_indResult(statistic=-3.540591655764069, pvalue=0.00040282371107312493)"
      ]
     },
     "execution_count": 53,
     "metadata": {},
     "output_type": "execute_result"
    }
   ],
   "source": [
    "ttest_ind(szao, zao)"
   ]
  },
  {
   "cell_type": "markdown",
   "id": "0d0f4174",
   "metadata": {},
   "source": [
    "Гипотеза о равенстве мат ожиданий цен в СЗАО и ЗАО отвергается."
   ]
  },
  {
   "cell_type": "markdown",
   "id": "ace25539",
   "metadata": {},
   "source": [
    "**3. Первичное жилье дороже вторичного**\n",
    "\n",
    "H0: $\\mu_1$ = $\\mu_2$\n",
    "\n",
    "H1: $\\mu_1$ > $\\mu_2$"
   ]
  },
  {
   "cell_type": "markdown",
   "id": "5db84eed",
   "metadata": {},
   "source": [
    "Проверим гипотезу о равенстве мат ожиданий цен на первичное и вторичное жилье, предварительно построив столбчатую диаграмму, опираясь на средние значения цен квартир."
   ]
  },
  {
   "cell_type": "code",
   "execution_count": 54,
   "id": "c4e393e8",
   "metadata": {},
   "outputs": [
    {
     "data": {
      "text/plain": [
       "{'2': 23122952.323423784, '0': 28741797.26892516}"
      ]
     },
     "execution_count": 54,
     "metadata": {},
     "output_type": "execute_result"
    }
   ],
   "source": [
    "a2 = dict()\n",
    "for i in our_df2['object_type'].unique():\n",
    "    a2[f'{i}'] = our_df2[our_df2['object_type'] == i]['price'].mean()   \n",
    "a2"
   ]
  },
  {
   "cell_type": "code",
   "execution_count": 55,
   "id": "30a0186f",
   "metadata": {},
   "outputs": [
    {
     "data": {
      "image/png": "[encoded data removed]",
      "text/plain": [
       "<Figure size 432x288 with 1 Axes>"
      ]
     },
     "metadata": {
      "needs_background": "light"
     },
     "output_type": "display_data"
    }
   ],
   "source": [
    "plt.bar(a2.keys(), a2.values())\n",
    "plt.xlabel(\"Тип жилья\")\n",
    "plt.ylabel(\"Цена, млрд руб.\")\n",
    "plt.title('Столбчатая диаграмма зависимости средней цены на квартиру в Москве от типа жилья')\n",
    "plt.show()"
   ]
  },
  {
   "cell_type": "code",
   "execution_count": 56,
   "id": "50da9f1c",
   "metadata": {},
   "outputs": [
    {
     "data": {
      "text/plain": [
       "Ttest_indResult(statistic=6.745128694568104, pvalue=7.82101592892805e-12)"
      ]
     },
     "execution_count": 56,
     "metadata": {},
     "output_type": "execute_result"
    }
   ],
   "source": [
    "ttest_ind(our_df2[our_df2['object_type'] == 0]['price'], our_df2[our_df2['object_type'] == 2]['price'], alternative='greater')"
   ]
  },
  {
   "cell_type": "markdown",
   "id": "dae7bf22",
   "metadata": {},
   "source": [
    "Нулевая гипотеза отвергается при заданной альтернативной на любом уровне значимости. "
   ]
  },
  {
   "cell_type": "markdown",
   "id": "1741b368",
   "metadata": {},
   "source": [
    "**4. Квартиры в малоэтажных домах дороже (до 15 этажа)**"
   ]
  },
  {
   "cell_type": "markdown",
   "id": "e2669ac0",
   "metadata": {},
   "source": [
    "Проверим гипотезу о том, что квартиры в малоэтажных домах дороже (до 15 этажа) (H0: $\\mu_1$ = $\\mu_2$, H1: $\\mu_1$ > $\\mu_2$)\n",
    "Данная гипотеза возникла в связи с тем, что малоэтажные дома находятся ближе к центру Москвы, следовательно, они предположительно могут быть дороже."
   ]
  },
  {
   "cell_type": "code",
   "execution_count": 57,
   "id": "9f8c615f",
   "metadata": {},
   "outputs": [
    {
     "data": {
      "image/png": "[encoded data removed]",
      "text/plain": [
       "<Figure size 432x288 with 1 Axes>"
      ]
     },
     "metadata": {
      "needs_background": "light"
     },
     "output_type": "display_data"
    }
   ],
   "source": [
    "plt.bar(our_df2['n_floors'], our_df2['price'])\n",
    "plt.xlabel(\"Количество этажей в доме\")\n",
    "plt.ylabel(\"Цена, млрд руб.\")\n",
    "plt.title('Столбчатая диаграмма зависимости цен на квартиры в Москве от количества этажей в доме')\n",
    "plt.show()"
   ]
  },
  {
   "cell_type": "code",
   "execution_count": 58,
   "id": "d0590f15",
   "metadata": {
    "scrolled": false
   },
   "outputs": [
    {
     "data": {
      "text/plain": [
       "Ttest_indResult(statistic=11.653895164315832, pvalue=1.3349555919824198e-31)"
      ]
     },
     "execution_count": 58,
     "metadata": {},
     "output_type": "execute_result"
    }
   ],
   "source": [
    "ttest_ind(our_df2[our_df2['n_floors'] <= 15]['price'], our_df2[our_df2['n_floors'] > 15]['price'], alternative='greater')"
   ]
  },
  {
   "cell_type": "code",
   "execution_count": 59,
   "id": "b4faa80b",
   "metadata": {},
   "outputs": [
    {
     "data": {
      "text/plain": [
       "Ttest_indResult(statistic=6.484842943518764, pvalue=4.528952244831289e-11)"
      ]
     },
     "execution_count": 59,
     "metadata": {},
     "output_type": "execute_result"
    }
   ],
   "source": [
    "ttest_ind(our_df2[our_df2['n_floors'] <= 10]['price'], our_df2[our_df2['n_floors'] > 10]['price'], alternative='greater') \n",
    "# посмотрим на статистику и p-value при 10 этажах в доме"
   ]
  },
  {
   "cell_type": "markdown",
   "id": "5d6bf1f0",
   "metadata": {},
   "source": [
    "Судя по маленькому значению p-value, нулевая гипотеза отвергается.\n",
    "Проверим корреляцию между ценой и кол-вом этажей в доме."
   ]
  },
  {
   "cell_type": "code",
   "execution_count": 60,
   "id": "909429a3",
   "metadata": {},
   "outputs": [
    {
     "data": {
      "text/plain": [
       "(-0.03891277226444309, 2.1684979135692125e-09)"
      ]
     },
     "execution_count": 60,
     "metadata": {},
     "output_type": "execute_result"
    }
   ],
   "source": [
    "pearsonr(our_df2['n_floors'], our_df2['price'])"
   ]
  },
  {
   "cell_type": "markdown",
   "id": "1882f182",
   "metadata": {},
   "source": [
    "Видим, что p-value мало, поэтому гипотеза о независимости отвергается на любом разумном уровне значимости. Существует небольшая (практически нулевая) отрицательная линейная зависимость."
   ]
  },
  {
   "cell_type": "markdown",
   "id": "e795e4ea",
   "metadata": {},
   "source": [
    "Вывод: нулевая гипотеза о равенстве МО отвергается на любом разумном уровне значимости, поэтому есть основания предполагать, что квартиры в малоэтажных домах стоят дороже. А также с помощью корреляции Пирсона показали, что существует небольшая отрицательная линейная зависимость между кол-вом этажей в доме и ценой квартиры."
   ]
  },
  {
   "cell_type": "markdown",
   "id": "049e6475",
   "metadata": {},
   "source": [
    "**5. Студии дороже, чем однокомнатные и двухкомнатные квартиры**"
   ]
  },
  {
   "cell_type": "markdown",
   "id": "dce85fa3",
   "metadata": {},
   "source": [
    "Проверка гипотезы про цены студий:\n",
    "Здесь также для большей корректности построим столбчатые диаграммы по средним значениям и выберем, с каким количеством комнат квартиры будем проверять на равенство мат ожиданий."
   ]
  },
  {
   "cell_type": "code",
   "execution_count": 63,
   "id": "c824ad96",
   "metadata": {},
   "outputs": [
    {
     "data": {
      "text/plain": [
       "{'2': 18219054.724423055,\n",
       " '-1': 7413367.16,\n",
       " '4': 67619821.60135135,\n",
       " '3': 30524151.369561777,\n",
       " '1': 11298307.69630842,\n",
       " '5': 151130371.79963234,\n",
       " '6': 253581058.56470588,\n",
       " '8': 99356184.7,\n",
       " '7': 172453633.33333334,\n",
       " '9': 55574820.0}"
      ]
     },
     "execution_count": 63,
     "metadata": {},
     "output_type": "execute_result"
    }
   ],
   "source": [
    "b = dict()\n",
    "for i in our_df2['rooms'].unique():\n",
    "    b[f'{i}'] = our_df2[our_df2['rooms'] == i]['price'].mean()   \n",
    "b"
   ]
  },
  {
   "cell_type": "code",
   "execution_count": 64,
   "id": "503ccb43",
   "metadata": {
    "scrolled": true
   },
   "outputs": [
    {
     "data": {
      "image/png": "[encoded data removed]",
      "text/plain": [
       "<Figure size 432x288 with 1 Axes>"
      ]
     },
     "metadata": {
      "needs_background": "light"
     },
     "output_type": "display_data"
    }
   ],
   "source": [
    "plt.bar(b.keys(),b.values())\n",
    "plt.xlabel(\"Кол-во комнат\")\n",
    "plt.ylabel(\"Цена, млрд руб.\")\n",
    "plt.title('Столбчатая диаграмма зависимости средней цены на квартиру в Москве от количества комнат')\n",
    "plt.show()"
   ]
  },
  {
   "cell_type": "markdown",
   "id": "f7a9b0de",
   "metadata": {},
   "source": [
    "\n",
    "По данной диаграмме заметно, что средние цены на студии гораздо меньше, чем на квартиры с нескольким количеством комнат. Следовательно, наши предположения о том, что цены на студию выше цен на квартиры оказались неверными. Проверим наличие связи между ценой квартиры и числом комнат, используя коэффициент корреляции Пирсона, а также сравним матожидания цен на квартиры с 5 и 7 комнатами; с 1 комнатой и студии."
   ]
  },
  {
   "cell_type": "code",
   "execution_count": 65,
   "id": "37aae513",
   "metadata": {},
   "outputs": [
    {
     "data": {
      "text/plain": [
       "(0.43545528635584296, 0.0)"
      ]
     },
     "execution_count": 65,
     "metadata": {},
     "output_type": "execute_result"
    }
   ],
   "source": [
    "from scipy.stats import pearsonr\n",
    "pearsonr(our_df2['price'], our_df2['rooms'])"
   ]
  },
  {
   "cell_type": "markdown",
   "id": "1fc3768e",
   "metadata": {},
   "source": [
    "В ходе проверки данной гипотезы о независимости мы выяснили, что нулевая гипотеза отвергается. То есть, существующая связь между переменными является статистически значимой. Присутствует слабая положительная линейная зависимость."
   ]
  },
  {
   "cell_type": "code",
   "execution_count": 66,
   "id": "42ea26cd",
   "metadata": {},
   "outputs": [
    {
     "data": {
      "text/plain": [
       "Ttest_indResult(statistic=-0.45729052369423645, pvalue=0.6476415086975609)"
      ]
     },
     "execution_count": 66,
     "metadata": {},
     "output_type": "execute_result"
    }
   ],
   "source": [
    "ttest_ind(our_df2[our_df2['rooms'] == 5]['price'], our_df2[our_df2['rooms'] == 7]['price'])"
   ]
  },
  {
   "cell_type": "code",
   "execution_count": 67,
   "id": "f4cd1d73",
   "metadata": {},
   "outputs": [
    {
     "data": {
      "text/plain": [
       "Ttest_indResult(statistic=13.318037557558762, pvalue=5.696471312667692e-40)"
      ]
     },
     "execution_count": 67,
     "metadata": {},
     "output_type": "execute_result"
    }
   ],
   "source": [
    "ttest_ind(our_df2[our_df2['rooms'] == 1]['price'], our_df2[our_df2['rooms'] == -1]['price'])"
   ]
  },
  {
   "cell_type": "markdown",
   "id": "0cdb0ef0",
   "metadata": {},
   "source": [
    "Видим, что нет оснований отвергать гипотезу о равенстве цен на 5-комнатные и 7-комнатные квартиры."
   ]
  },
  {
   "cell_type": "markdown",
   "id": "8ccb3a55",
   "metadata": {},
   "source": [
    "**6. Расстояние до центра города влияет на цену (Н0: признаки независимы)**"
   ]
  },
  {
   "cell_type": "markdown",
   "id": "c935bd27",
   "metadata": {},
   "source": [
    "Проверим также гипотезу о том, что удаленность квартиры от центра города влияет на ее цену."
   ]
  },
  {
   "cell_type": "code",
   "execution_count": 68,
   "id": "e6614df3",
   "metadata": {},
   "outputs": [
    {
     "data": {
      "text/plain": [
       "(-0.2945791496363267, 0.0)"
      ]
     },
     "execution_count": 68,
     "metadata": {},
     "output_type": "execute_result"
    }
   ],
   "source": [
    "from scipy.stats import pearsonr\n",
    "pearsonr(our_df2['price'], our_df2['gap'])"
   ]
  },
  {
   "cell_type": "markdown",
   "id": "9b229799",
   "metadata": {},
   "source": [
    "Нулевое p-value говорит о том, что гипотеза о независимости отвергается и коэффициент корреляции значим. Кроме того, значение коэффициента отрицательно, то есть можно сказать о наличии слабой отрицательной линейной связи между признаками. Отметим, что полученный вывод согласуется с логикой - чем меньше расстояние до центра, тем дороже квартира."
   ]
  },
  {
   "cell_type": "markdown",
   "id": "2807e373",
   "metadata": {},
   "source": [
    "#### *Выводы, полученные с помощью проверки гипотез:*"
   ]
  },
  {
   "cell_type": "markdown",
   "id": "ae9a6b2c",
   "metadata": {},
   "source": [
    "- выявлена сильная положительная зависимость цены на квартиру от ее площади\n",
    "- есть основания полагать, что цены на квартиры в ВАО и ЮАО имеют одинаковое математическое ожидание\n",
    "- гипотеза о равенстве цен на первичное и вторичное жилье отверглась\n",
    "- выявлена средняя положительная зависимость между ценой квартиры и количеством комнат в ней\n",
    "- есть основания полагать, что цены на на 5-комнатные и 7-комнатные квартиры имеют одинковое математическое ожидание\n",
    "- гипотеза о равенстве цен на квартиры в малоэтажных и высокоэтажных домах отверглась\n",
    "- выявлена слабая отрицательная зависимость между ценой квартиры и ее удаленностью от центра Москвы"
   ]
  }
 ],
 "metadata": {
  "kernelspec": {
   "display_name": "Python 3 (ipykernel)",
   "language": "python",
   "name": "python3"
  },
  "language_info": {
   "codemirror_mode": {
    "name": "ipython",
    "version": 3
   },
   "file_extension": ".py",
   "mimetype": "text/x-python",
   "name": "python",
   "nbconvert_exporter": "python",
   "pygments_lexer": "ipython3",
   "version": "3.9.7"
  }
 },
 "nbformat": 4,
 "nbformat_minor": 5
}
