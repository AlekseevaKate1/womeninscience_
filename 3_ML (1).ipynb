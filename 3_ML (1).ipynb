{
 "cells": [
  {
   "cell_type": "markdown",
   "id": "70d7872a",
   "metadata": {},
   "source": [
    "# Машинное обучение"
   ]
  },
  {
   "cell_type": "markdown",
   "id": "3c204762",
   "metadata": {},
   "source": [
    "Удалим все переменные, которые не понадобятся в машинном обучении: информация о 'geo_lat', 'geo_lon', 'diff_lat' и 'diff_lon' содержится в переменной 'gap', а о 'postal_code' - в переменной 'district'. "
   ]
  },
  {
   "cell_type": "code",
   "execution_count": 69,
   "id": "0593bc11",
   "metadata": {
    "scrolled": true
   },
   "outputs": [
    {
     "data": {
      "text/html": [
       "<div>\n",
       "<style scoped>\n",
       "    .dataframe tbody tr th:only-of-type {\n",
       "        vertical-align: middle;\n",
       "    }\n",
       "\n",
       "    .dataframe tbody tr th {\n",
       "        vertical-align: top;\n",
       "    }\n",
       "\n",
       "    .dataframe thead th {\n",
       "        text-align: right;\n",
       "    }\n",
       "</style>\n",
       "<table border=\"1\" class=\"dataframe\">\n",
       "  <thead>\n",
       "    <tr style=\"text-align: right;\">\n",
       "      <th></th>\n",
       "      <th>date</th>\n",
       "      <th>price</th>\n",
       "      <th>floor</th>\n",
       "      <th>n_floors</th>\n",
       "      <th>rooms</th>\n",
       "      <th>area</th>\n",
       "      <th>kitchen_area</th>\n",
       "      <th>object_type</th>\n",
       "      <th>gap</th>\n",
       "      <th>district</th>\n",
       "    </tr>\n",
       "  </thead>\n",
       "  <tbody>\n",
       "    <tr>\n",
       "      <th>4</th>\n",
       "      <td>2021-01-01</td>\n",
       "      <td>25173570</td>\n",
       "      <td>19</td>\n",
       "      <td>22</td>\n",
       "      <td>2</td>\n",
       "      <td>90.5</td>\n",
       "      <td>0.0</td>\n",
       "      <td>2</td>\n",
       "      <td>11.039047</td>\n",
       "      <td>ЗАО</td>\n",
       "    </tr>\n",
       "    <tr>\n",
       "      <th>6</th>\n",
       "      <td>2021-01-01</td>\n",
       "      <td>6418000</td>\n",
       "      <td>21</td>\n",
       "      <td>32</td>\n",
       "      <td>-1</td>\n",
       "      <td>20.0</td>\n",
       "      <td>5.0</td>\n",
       "      <td>2</td>\n",
       "      <td>11.864770</td>\n",
       "      <td>ВАО</td>\n",
       "    </tr>\n",
       "    <tr>\n",
       "      <th>7</th>\n",
       "      <td>2021-01-01</td>\n",
       "      <td>21000000</td>\n",
       "      <td>4</td>\n",
       "      <td>18</td>\n",
       "      <td>4</td>\n",
       "      <td>92.9</td>\n",
       "      <td>12.0</td>\n",
       "      <td>0</td>\n",
       "      <td>17.906452</td>\n",
       "      <td>ЮВАО</td>\n",
       "    </tr>\n",
       "    <tr>\n",
       "      <th>9</th>\n",
       "      <td>2021-01-01</td>\n",
       "      <td>11750000</td>\n",
       "      <td>17</td>\n",
       "      <td>17</td>\n",
       "      <td>3</td>\n",
       "      <td>76.6</td>\n",
       "      <td>11.0</td>\n",
       "      <td>0</td>\n",
       "      <td>18.752424</td>\n",
       "      <td>ЮВАО</td>\n",
       "    </tr>\n",
       "    <tr>\n",
       "      <th>11</th>\n",
       "      <td>2021-01-01</td>\n",
       "      <td>11000000</td>\n",
       "      <td>2</td>\n",
       "      <td>9</td>\n",
       "      <td>3</td>\n",
       "      <td>55.1</td>\n",
       "      <td>6.0</td>\n",
       "      <td>0</td>\n",
       "      <td>17.394805</td>\n",
       "      <td>ВАО</td>\n",
       "    </tr>\n",
       "    <tr>\n",
       "      <th>...</th>\n",
       "      <td>...</td>\n",
       "      <td>...</td>\n",
       "      <td>...</td>\n",
       "      <td>...</td>\n",
       "      <td>...</td>\n",
       "      <td>...</td>\n",
       "      <td>...</td>\n",
       "      <td>...</td>\n",
       "      <td>...</td>\n",
       "      <td>...</td>\n",
       "    </tr>\n",
       "    <tr>\n",
       "      <th>38196</th>\n",
       "      <td>2021-02-15</td>\n",
       "      <td>15500000</td>\n",
       "      <td>7</td>\n",
       "      <td>17</td>\n",
       "      <td>2</td>\n",
       "      <td>58.0</td>\n",
       "      <td>10.0</td>\n",
       "      <td>0</td>\n",
       "      <td>22.291040</td>\n",
       "      <td>ЗАО</td>\n",
       "    </tr>\n",
       "    <tr>\n",
       "      <th>38198</th>\n",
       "      <td>2021-02-15</td>\n",
       "      <td>13500000</td>\n",
       "      <td>1</td>\n",
       "      <td>5</td>\n",
       "      <td>1</td>\n",
       "      <td>47.2</td>\n",
       "      <td>10.0</td>\n",
       "      <td>0</td>\n",
       "      <td>5.146934</td>\n",
       "      <td>ЦАО</td>\n",
       "    </tr>\n",
       "    <tr>\n",
       "      <th>38200</th>\n",
       "      <td>2021-02-15</td>\n",
       "      <td>18500000</td>\n",
       "      <td>10</td>\n",
       "      <td>14</td>\n",
       "      <td>2</td>\n",
       "      <td>53.0</td>\n",
       "      <td>9.0</td>\n",
       "      <td>0</td>\n",
       "      <td>8.618141</td>\n",
       "      <td>СВАО</td>\n",
       "    </tr>\n",
       "    <tr>\n",
       "      <th>38201</th>\n",
       "      <td>2021-02-15</td>\n",
       "      <td>8100000</td>\n",
       "      <td>7</td>\n",
       "      <td>9</td>\n",
       "      <td>2</td>\n",
       "      <td>44.8</td>\n",
       "      <td>6.0</td>\n",
       "      <td>0</td>\n",
       "      <td>19.853448</td>\n",
       "      <td>ЮВАО</td>\n",
       "    </tr>\n",
       "    <tr>\n",
       "      <th>38203</th>\n",
       "      <td>2021-02-15</td>\n",
       "      <td>19800000</td>\n",
       "      <td>3</td>\n",
       "      <td>9</td>\n",
       "      <td>2</td>\n",
       "      <td>44.2</td>\n",
       "      <td>0.0</td>\n",
       "      <td>0</td>\n",
       "      <td>5.939567</td>\n",
       "      <td>ЗАО</td>\n",
       "    </tr>\n",
       "  </tbody>\n",
       "</table>\n",
       "<p>23638 rows × 10 columns</p>\n",
       "</div>"
      ],
      "text/plain": [
       "            date     price  floor  n_floors  rooms  area  kitchen_area  \\\n",
       "4     2021-01-01  25173570     19        22      2  90.5           0.0   \n",
       "6     2021-01-01   6418000     21        32     -1  20.0           5.0   \n",
       "7     2021-01-01  21000000      4        18      4  92.9          12.0   \n",
       "9     2021-01-01  11750000     17        17      3  76.6          11.0   \n",
       "11    2021-01-01  11000000      2         9      3  55.1           6.0   \n",
       "...          ...       ...    ...       ...    ...   ...           ...   \n",
       "38196 2021-02-15  15500000      7        17      2  58.0          10.0   \n",
       "38198 2021-02-15  13500000      1         5      1  47.2          10.0   \n",
       "38200 2021-02-15  18500000     10        14      2  53.0           9.0   \n",
       "38201 2021-02-15   8100000      7         9      2  44.8           6.0   \n",
       "38203 2021-02-15  19800000      3         9      2  44.2           0.0   \n",
       "\n",
       "       object_type        gap district  \n",
       "4                2  11.039047      ЗАО  \n",
       "6                2  11.864770      ВАО  \n",
       "7                0  17.906452     ЮВАО  \n",
       "9                0  18.752424     ЮВАО  \n",
       "11               0  17.394805      ВАО  \n",
       "...            ...        ...      ...  \n",
       "38196            0  22.291040      ЗАО  \n",
       "38198            0   5.146934      ЦАО  \n",
       "38200            0   8.618141     СВАО  \n",
       "38201            0  19.853448     ЮВАО  \n",
       "38203            0   5.939567      ЗАО  \n",
       "\n",
       "[23638 rows x 10 columns]"
      ]
     },
     "execution_count": 69,
     "metadata": {},
     "output_type": "execute_result"
    }
   ],
   "source": [
    "our_df2.drop(['geo_lat', 'geo_lon', 'diff_lat', 'diff_lon', 'postal_code'], axis=1, inplace=True)\n",
    "our_df2"
   ]
  },
  {
   "cell_type": "code",
   "execution_count": 70,
   "id": "900b8257",
   "metadata": {
    "scrolled": true
   },
   "outputs": [],
   "source": [
    "our_df2.reset_index(drop=True, inplace=True)"
   ]
  },
  {
   "cell_type": "markdown",
   "id": "0fe1545c",
   "metadata": {},
   "source": [
    "Так как переменная object_type и так принимает всего два значения, мы с помощью цикла переведем ее в категориальную (2 поменяем на 1)."
   ]
  },
  {
   "cell_type": "code",
   "execution_count": 71,
   "id": "ba7c257a",
   "metadata": {
    "scrolled": false
   },
   "outputs": [
    {
     "data": {
      "text/html": [
       "<div>\n",
       "<style scoped>\n",
       "    .dataframe tbody tr th:only-of-type {\n",
       "        vertical-align: middle;\n",
       "    }\n",
       "\n",
       "    .dataframe tbody tr th {\n",
       "        vertical-align: top;\n",
       "    }\n",
       "\n",
       "    .dataframe thead th {\n",
       "        text-align: right;\n",
       "    }\n",
       "</style>\n",
       "<table border=\"1\" class=\"dataframe\">\n",
       "  <thead>\n",
       "    <tr style=\"text-align: right;\">\n",
       "      <th></th>\n",
       "      <th>date</th>\n",
       "      <th>price</th>\n",
       "      <th>floor</th>\n",
       "      <th>n_floors</th>\n",
       "      <th>rooms</th>\n",
       "      <th>area</th>\n",
       "      <th>kitchen_area</th>\n",
       "      <th>object_type</th>\n",
       "      <th>gap</th>\n",
       "      <th>district</th>\n",
       "    </tr>\n",
       "  </thead>\n",
       "  <tbody>\n",
       "    <tr>\n",
       "      <th>0</th>\n",
       "      <td>2021-01-01</td>\n",
       "      <td>25173570</td>\n",
       "      <td>19</td>\n",
       "      <td>22</td>\n",
       "      <td>2</td>\n",
       "      <td>90.5</td>\n",
       "      <td>0.0</td>\n",
       "      <td>1</td>\n",
       "      <td>11.039047</td>\n",
       "      <td>ЗАО</td>\n",
       "    </tr>\n",
       "    <tr>\n",
       "      <th>1</th>\n",
       "      <td>2021-01-01</td>\n",
       "      <td>6418000</td>\n",
       "      <td>21</td>\n",
       "      <td>32</td>\n",
       "      <td>-1</td>\n",
       "      <td>20.0</td>\n",
       "      <td>5.0</td>\n",
       "      <td>1</td>\n",
       "      <td>11.864770</td>\n",
       "      <td>ВАО</td>\n",
       "    </tr>\n",
       "    <tr>\n",
       "      <th>2</th>\n",
       "      <td>2021-01-01</td>\n",
       "      <td>21000000</td>\n",
       "      <td>4</td>\n",
       "      <td>18</td>\n",
       "      <td>4</td>\n",
       "      <td>92.9</td>\n",
       "      <td>12.0</td>\n",
       "      <td>0</td>\n",
       "      <td>17.906452</td>\n",
       "      <td>ЮВАО</td>\n",
       "    </tr>\n",
       "    <tr>\n",
       "      <th>3</th>\n",
       "      <td>2021-01-01</td>\n",
       "      <td>11750000</td>\n",
       "      <td>17</td>\n",
       "      <td>17</td>\n",
       "      <td>3</td>\n",
       "      <td>76.6</td>\n",
       "      <td>11.0</td>\n",
       "      <td>0</td>\n",
       "      <td>18.752424</td>\n",
       "      <td>ЮВАО</td>\n",
       "    </tr>\n",
       "    <tr>\n",
       "      <th>4</th>\n",
       "      <td>2021-01-01</td>\n",
       "      <td>11000000</td>\n",
       "      <td>2</td>\n",
       "      <td>9</td>\n",
       "      <td>3</td>\n",
       "      <td>55.1</td>\n",
       "      <td>6.0</td>\n",
       "      <td>0</td>\n",
       "      <td>17.394805</td>\n",
       "      <td>ВАО</td>\n",
       "    </tr>\n",
       "    <tr>\n",
       "      <th>...</th>\n",
       "      <td>...</td>\n",
       "      <td>...</td>\n",
       "      <td>...</td>\n",
       "      <td>...</td>\n",
       "      <td>...</td>\n",
       "      <td>...</td>\n",
       "      <td>...</td>\n",
       "      <td>...</td>\n",
       "      <td>...</td>\n",
       "      <td>...</td>\n",
       "    </tr>\n",
       "    <tr>\n",
       "      <th>23633</th>\n",
       "      <td>2021-02-15</td>\n",
       "      <td>15500000</td>\n",
       "      <td>7</td>\n",
       "      <td>17</td>\n",
       "      <td>2</td>\n",
       "      <td>58.0</td>\n",
       "      <td>10.0</td>\n",
       "      <td>0</td>\n",
       "      <td>22.291040</td>\n",
       "      <td>ЗАО</td>\n",
       "    </tr>\n",
       "    <tr>\n",
       "      <th>23634</th>\n",
       "      <td>2021-02-15</td>\n",
       "      <td>13500000</td>\n",
       "      <td>1</td>\n",
       "      <td>5</td>\n",
       "      <td>1</td>\n",
       "      <td>47.2</td>\n",
       "      <td>10.0</td>\n",
       "      <td>0</td>\n",
       "      <td>5.146934</td>\n",
       "      <td>ЦАО</td>\n",
       "    </tr>\n",
       "    <tr>\n",
       "      <th>23635</th>\n",
       "      <td>2021-02-15</td>\n",
       "      <td>18500000</td>\n",
       "      <td>10</td>\n",
       "      <td>14</td>\n",
       "      <td>2</td>\n",
       "      <td>53.0</td>\n",
       "      <td>9.0</td>\n",
       "      <td>0</td>\n",
       "      <td>8.618141</td>\n",
       "      <td>СВАО</td>\n",
       "    </tr>\n",
       "    <tr>\n",
       "      <th>23636</th>\n",
       "      <td>2021-02-15</td>\n",
       "      <td>8100000</td>\n",
       "      <td>7</td>\n",
       "      <td>9</td>\n",
       "      <td>2</td>\n",
       "      <td>44.8</td>\n",
       "      <td>6.0</td>\n",
       "      <td>0</td>\n",
       "      <td>19.853448</td>\n",
       "      <td>ЮВАО</td>\n",
       "    </tr>\n",
       "    <tr>\n",
       "      <th>23637</th>\n",
       "      <td>2021-02-15</td>\n",
       "      <td>19800000</td>\n",
       "      <td>3</td>\n",
       "      <td>9</td>\n",
       "      <td>2</td>\n",
       "      <td>44.2</td>\n",
       "      <td>0.0</td>\n",
       "      <td>0</td>\n",
       "      <td>5.939567</td>\n",
       "      <td>ЗАО</td>\n",
       "    </tr>\n",
       "  </tbody>\n",
       "</table>\n",
       "<p>23638 rows × 10 columns</p>\n",
       "</div>"
      ],
      "text/plain": [
       "            date     price  floor  n_floors  rooms  area  kitchen_area  \\\n",
       "0     2021-01-01  25173570     19        22      2  90.5           0.0   \n",
       "1     2021-01-01   6418000     21        32     -1  20.0           5.0   \n",
       "2     2021-01-01  21000000      4        18      4  92.9          12.0   \n",
       "3     2021-01-01  11750000     17        17      3  76.6          11.0   \n",
       "4     2021-01-01  11000000      2         9      3  55.1           6.0   \n",
       "...          ...       ...    ...       ...    ...   ...           ...   \n",
       "23633 2021-02-15  15500000      7        17      2  58.0          10.0   \n",
       "23634 2021-02-15  13500000      1         5      1  47.2          10.0   \n",
       "23635 2021-02-15  18500000     10        14      2  53.0           9.0   \n",
       "23636 2021-02-15   8100000      7         9      2  44.8           6.0   \n",
       "23637 2021-02-15  19800000      3         9      2  44.2           0.0   \n",
       "\n",
       "       object_type        gap district  \n",
       "0                1  11.039047      ЗАО  \n",
       "1                1  11.864770      ВАО  \n",
       "2                0  17.906452     ЮВАО  \n",
       "3                0  18.752424     ЮВАО  \n",
       "4                0  17.394805      ВАО  \n",
       "...            ...        ...      ...  \n",
       "23633            0  22.291040      ЗАО  \n",
       "23634            0   5.146934      ЦАО  \n",
       "23635            0   8.618141     СВАО  \n",
       "23636            0  19.853448     ЮВАО  \n",
       "23637            0   5.939567      ЗАО  \n",
       "\n",
       "[23638 rows x 10 columns]"
      ]
     },
     "execution_count": 71,
     "metadata": {},
     "output_type": "execute_result"
    }
   ],
   "source": [
    "for i in range(23638):\n",
    "    if our_df2['object_type'][i] == 2:\n",
    "        \n",
    "        our_df2['object_type'][i] = 1\n",
    "        \n",
    "our_df2"
   ]
  },
  {
   "cell_type": "code",
   "execution_count": 72,
   "id": "3dfd1fae",
   "metadata": {
    "scrolled": true
   },
   "outputs": [
    {
     "data": {
      "text/html": [
       "<div>\n",
       "<style scoped>\n",
       "    .dataframe tbody tr th:only-of-type {\n",
       "        vertical-align: middle;\n",
       "    }\n",
       "\n",
       "    .dataframe tbody tr th {\n",
       "        vertical-align: top;\n",
       "    }\n",
       "\n",
       "    .dataframe thead th {\n",
       "        text-align: right;\n",
       "    }\n",
       "</style>\n",
       "<table border=\"1\" class=\"dataframe\">\n",
       "  <thead>\n",
       "    <tr style=\"text-align: right;\">\n",
       "      <th></th>\n",
       "      <th>date</th>\n",
       "      <th>price</th>\n",
       "      <th>floor</th>\n",
       "      <th>n_floors</th>\n",
       "      <th>rooms</th>\n",
       "      <th>area</th>\n",
       "      <th>kitchen_area</th>\n",
       "      <th>object_type</th>\n",
       "      <th>gap</th>\n",
       "      <th>district_ЗАО</th>\n",
       "      <th>district_САО</th>\n",
       "      <th>district_СВАО</th>\n",
       "      <th>district_СЗАО</th>\n",
       "      <th>district_ЦАО</th>\n",
       "      <th>district_ЮАО</th>\n",
       "      <th>district_ЮВАО</th>\n",
       "      <th>district_ЮЗАО</th>\n",
       "    </tr>\n",
       "  </thead>\n",
       "  <tbody>\n",
       "    <tr>\n",
       "      <th>0</th>\n",
       "      <td>2021-01-01</td>\n",
       "      <td>25173570</td>\n",
       "      <td>19</td>\n",
       "      <td>22</td>\n",
       "      <td>2</td>\n",
       "      <td>90.5</td>\n",
       "      <td>0.0</td>\n",
       "      <td>1</td>\n",
       "      <td>11.039047</td>\n",
       "      <td>1</td>\n",
       "      <td>0</td>\n",
       "      <td>0</td>\n",
       "      <td>0</td>\n",
       "      <td>0</td>\n",
       "      <td>0</td>\n",
       "      <td>0</td>\n",
       "      <td>0</td>\n",
       "    </tr>\n",
       "    <tr>\n",
       "      <th>1</th>\n",
       "      <td>2021-01-01</td>\n",
       "      <td>6418000</td>\n",
       "      <td>21</td>\n",
       "      <td>32</td>\n",
       "      <td>-1</td>\n",
       "      <td>20.0</td>\n",
       "      <td>5.0</td>\n",
       "      <td>1</td>\n",
       "      <td>11.864770</td>\n",
       "      <td>0</td>\n",
       "      <td>0</td>\n",
       "      <td>0</td>\n",
       "      <td>0</td>\n",
       "      <td>0</td>\n",
       "      <td>0</td>\n",
       "      <td>0</td>\n",
       "      <td>0</td>\n",
       "    </tr>\n",
       "    <tr>\n",
       "      <th>2</th>\n",
       "      <td>2021-01-01</td>\n",
       "      <td>21000000</td>\n",
       "      <td>4</td>\n",
       "      <td>18</td>\n",
       "      <td>4</td>\n",
       "      <td>92.9</td>\n",
       "      <td>12.0</td>\n",
       "      <td>0</td>\n",
       "      <td>17.906452</td>\n",
       "      <td>0</td>\n",
       "      <td>0</td>\n",
       "      <td>0</td>\n",
       "      <td>0</td>\n",
       "      <td>0</td>\n",
       "      <td>0</td>\n",
       "      <td>1</td>\n",
       "      <td>0</td>\n",
       "    </tr>\n",
       "    <tr>\n",
       "      <th>3</th>\n",
       "      <td>2021-01-01</td>\n",
       "      <td>11750000</td>\n",
       "      <td>17</td>\n",
       "      <td>17</td>\n",
       "      <td>3</td>\n",
       "      <td>76.6</td>\n",
       "      <td>11.0</td>\n",
       "      <td>0</td>\n",
       "      <td>18.752424</td>\n",
       "      <td>0</td>\n",
       "      <td>0</td>\n",
       "      <td>0</td>\n",
       "      <td>0</td>\n",
       "      <td>0</td>\n",
       "      <td>0</td>\n",
       "      <td>1</td>\n",
       "      <td>0</td>\n",
       "    </tr>\n",
       "    <tr>\n",
       "      <th>4</th>\n",
       "      <td>2021-01-01</td>\n",
       "      <td>11000000</td>\n",
       "      <td>2</td>\n",
       "      <td>9</td>\n",
       "      <td>3</td>\n",
       "      <td>55.1</td>\n",
       "      <td>6.0</td>\n",
       "      <td>0</td>\n",
       "      <td>17.394805</td>\n",
       "      <td>0</td>\n",
       "      <td>0</td>\n",
       "      <td>0</td>\n",
       "      <td>0</td>\n",
       "      <td>0</td>\n",
       "      <td>0</td>\n",
       "      <td>0</td>\n",
       "      <td>0</td>\n",
       "    </tr>\n",
       "    <tr>\n",
       "      <th>...</th>\n",
       "      <td>...</td>\n",
       "      <td>...</td>\n",
       "      <td>...</td>\n",
       "      <td>...</td>\n",
       "      <td>...</td>\n",
       "      <td>...</td>\n",
       "      <td>...</td>\n",
       "      <td>...</td>\n",
       "      <td>...</td>\n",
       "      <td>...</td>\n",
       "      <td>...</td>\n",
       "      <td>...</td>\n",
       "      <td>...</td>\n",
       "      <td>...</td>\n",
       "      <td>...</td>\n",
       "      <td>...</td>\n",
       "      <td>...</td>\n",
       "    </tr>\n",
       "    <tr>\n",
       "      <th>23633</th>\n",
       "      <td>2021-02-15</td>\n",
       "      <td>15500000</td>\n",
       "      <td>7</td>\n",
       "      <td>17</td>\n",
       "      <td>2</td>\n",
       "      <td>58.0</td>\n",
       "      <td>10.0</td>\n",
       "      <td>0</td>\n",
       "      <td>22.291040</td>\n",
       "      <td>1</td>\n",
       "      <td>0</td>\n",
       "      <td>0</td>\n",
       "      <td>0</td>\n",
       "      <td>0</td>\n",
       "      <td>0</td>\n",
       "      <td>0</td>\n",
       "      <td>0</td>\n",
       "    </tr>\n",
       "    <tr>\n",
       "      <th>23634</th>\n",
       "      <td>2021-02-15</td>\n",
       "      <td>13500000</td>\n",
       "      <td>1</td>\n",
       "      <td>5</td>\n",
       "      <td>1</td>\n",
       "      <td>47.2</td>\n",
       "      <td>10.0</td>\n",
       "      <td>0</td>\n",
       "      <td>5.146934</td>\n",
       "      <td>0</td>\n",
       "      <td>0</td>\n",
       "      <td>0</td>\n",
       "      <td>0</td>\n",
       "      <td>1</td>\n",
       "      <td>0</td>\n",
       "      <td>0</td>\n",
       "      <td>0</td>\n",
       "    </tr>\n",
       "    <tr>\n",
       "      <th>23635</th>\n",
       "      <td>2021-02-15</td>\n",
       "      <td>18500000</td>\n",
       "      <td>10</td>\n",
       "      <td>14</td>\n",
       "      <td>2</td>\n",
       "      <td>53.0</td>\n",
       "      <td>9.0</td>\n",
       "      <td>0</td>\n",
       "      <td>8.618141</td>\n",
       "      <td>0</td>\n",
       "      <td>0</td>\n",
       "      <td>1</td>\n",
       "      <td>0</td>\n",
       "      <td>0</td>\n",
       "      <td>0</td>\n",
       "      <td>0</td>\n",
       "      <td>0</td>\n",
       "    </tr>\n",
       "    <tr>\n",
       "      <th>23636</th>\n",
       "      <td>2021-02-15</td>\n",
       "      <td>8100000</td>\n",
       "      <td>7</td>\n",
       "      <td>9</td>\n",
       "      <td>2</td>\n",
       "      <td>44.8</td>\n",
       "      <td>6.0</td>\n",
       "      <td>0</td>\n",
       "      <td>19.853448</td>\n",
       "      <td>0</td>\n",
       "      <td>0</td>\n",
       "      <td>0</td>\n",
       "      <td>0</td>\n",
       "      <td>0</td>\n",
       "      <td>0</td>\n",
       "      <td>1</td>\n",
       "      <td>0</td>\n",
       "    </tr>\n",
       "    <tr>\n",
       "      <th>23637</th>\n",
       "      <td>2021-02-15</td>\n",
       "      <td>19800000</td>\n",
       "      <td>3</td>\n",
       "      <td>9</td>\n",
       "      <td>2</td>\n",
       "      <td>44.2</td>\n",
       "      <td>0.0</td>\n",
       "      <td>0</td>\n",
       "      <td>5.939567</td>\n",
       "      <td>1</td>\n",
       "      <td>0</td>\n",
       "      <td>0</td>\n",
       "      <td>0</td>\n",
       "      <td>0</td>\n",
       "      <td>0</td>\n",
       "      <td>0</td>\n",
       "      <td>0</td>\n",
       "    </tr>\n",
       "  </tbody>\n",
       "</table>\n",
       "<p>23638 rows × 17 columns</p>\n",
       "</div>"
      ],
      "text/plain": [
       "            date     price  floor  n_floors  rooms  area  kitchen_area  \\\n",
       "0     2021-01-01  25173570     19        22      2  90.5           0.0   \n",
       "1     2021-01-01   6418000     21        32     -1  20.0           5.0   \n",
       "2     2021-01-01  21000000      4        18      4  92.9          12.0   \n",
       "3     2021-01-01  11750000     17        17      3  76.6          11.0   \n",
       "4     2021-01-01  11000000      2         9      3  55.1           6.0   \n",
       "...          ...       ...    ...       ...    ...   ...           ...   \n",
       "23633 2021-02-15  15500000      7        17      2  58.0          10.0   \n",
       "23634 2021-02-15  13500000      1         5      1  47.2          10.0   \n",
       "23635 2021-02-15  18500000     10        14      2  53.0           9.0   \n",
       "23636 2021-02-15   8100000      7         9      2  44.8           6.0   \n",
       "23637 2021-02-15  19800000      3         9      2  44.2           0.0   \n",
       "\n",
       "       object_type        gap  district_ЗАО  district_САО  district_СВАО  \\\n",
       "0                1  11.039047             1             0              0   \n",
       "1                1  11.864770             0             0              0   \n",
       "2                0  17.906452             0             0              0   \n",
       "3                0  18.752424             0             0              0   \n",
       "4                0  17.394805             0             0              0   \n",
       "...            ...        ...           ...           ...            ...   \n",
       "23633            0  22.291040             1             0              0   \n",
       "23634            0   5.146934             0             0              0   \n",
       "23635            0   8.618141             0             0              1   \n",
       "23636            0  19.853448             0             0              0   \n",
       "23637            0   5.939567             1             0              0   \n",
       "\n",
       "       district_СЗАО  district_ЦАО  district_ЮАО  district_ЮВАО  district_ЮЗАО  \n",
       "0                  0             0             0              0              0  \n",
       "1                  0             0             0              0              0  \n",
       "2                  0             0             0              1              0  \n",
       "3                  0             0             0              1              0  \n",
       "4                  0             0             0              0              0  \n",
       "...              ...           ...           ...            ...            ...  \n",
       "23633              0             0             0              0              0  \n",
       "23634              0             1             0              0              0  \n",
       "23635              0             0             0              0              0  \n",
       "23636              0             0             0              1              0  \n",
       "23637              0             0             0              0              0  \n",
       "\n",
       "[23638 rows x 17 columns]"
      ]
     },
     "execution_count": 72,
     "metadata": {},
     "output_type": "execute_result"
    }
   ],
   "source": [
    "our_df2 = pd.get_dummies(our_df2, drop_first=True) # ко всем object применится OHE\n",
    "our_df2"
   ]
  },
  {
   "cell_type": "code",
   "execution_count": 73,
   "id": "7140928b",
   "metadata": {
    "scrolled": false
   },
   "outputs": [
    {
     "data": {
      "text/html": [
       "<div>\n",
       "<style scoped>\n",
       "    .dataframe tbody tr th:only-of-type {\n",
       "        vertical-align: middle;\n",
       "    }\n",
       "\n",
       "    .dataframe tbody tr th {\n",
       "        vertical-align: top;\n",
       "    }\n",
       "\n",
       "    .dataframe thead th {\n",
       "        text-align: right;\n",
       "    }\n",
       "</style>\n",
       "<table border=\"1\" class=\"dataframe\">\n",
       "  <thead>\n",
       "    <tr style=\"text-align: right;\">\n",
       "      <th></th>\n",
       "      <th>price</th>\n",
       "      <th>floor</th>\n",
       "      <th>n_floors</th>\n",
       "      <th>rooms</th>\n",
       "      <th>area</th>\n",
       "      <th>kitchen_area</th>\n",
       "      <th>object_type</th>\n",
       "      <th>gap</th>\n",
       "      <th>district_ЗАО</th>\n",
       "      <th>district_САО</th>\n",
       "      <th>district_СВАО</th>\n",
       "      <th>district_СЗАО</th>\n",
       "      <th>district_ЦАО</th>\n",
       "      <th>district_ЮАО</th>\n",
       "      <th>district_ЮВАО</th>\n",
       "      <th>district_ЮЗАО</th>\n",
       "    </tr>\n",
       "  </thead>\n",
       "  <tbody>\n",
       "    <tr>\n",
       "      <th>0</th>\n",
       "      <td>25173570</td>\n",
       "      <td>19</td>\n",
       "      <td>22</td>\n",
       "      <td>2</td>\n",
       "      <td>90.5</td>\n",
       "      <td>0.0</td>\n",
       "      <td>1</td>\n",
       "      <td>11.039047</td>\n",
       "      <td>1</td>\n",
       "      <td>0</td>\n",
       "      <td>0</td>\n",
       "      <td>0</td>\n",
       "      <td>0</td>\n",
       "      <td>0</td>\n",
       "      <td>0</td>\n",
       "      <td>0</td>\n",
       "    </tr>\n",
       "    <tr>\n",
       "      <th>1</th>\n",
       "      <td>6418000</td>\n",
       "      <td>21</td>\n",
       "      <td>32</td>\n",
       "      <td>-1</td>\n",
       "      <td>20.0</td>\n",
       "      <td>5.0</td>\n",
       "      <td>1</td>\n",
       "      <td>11.864770</td>\n",
       "      <td>0</td>\n",
       "      <td>0</td>\n",
       "      <td>0</td>\n",
       "      <td>0</td>\n",
       "      <td>0</td>\n",
       "      <td>0</td>\n",
       "      <td>0</td>\n",
       "      <td>0</td>\n",
       "    </tr>\n",
       "    <tr>\n",
       "      <th>2</th>\n",
       "      <td>21000000</td>\n",
       "      <td>4</td>\n",
       "      <td>18</td>\n",
       "      <td>4</td>\n",
       "      <td>92.9</td>\n",
       "      <td>12.0</td>\n",
       "      <td>0</td>\n",
       "      <td>17.906452</td>\n",
       "      <td>0</td>\n",
       "      <td>0</td>\n",
       "      <td>0</td>\n",
       "      <td>0</td>\n",
       "      <td>0</td>\n",
       "      <td>0</td>\n",
       "      <td>1</td>\n",
       "      <td>0</td>\n",
       "    </tr>\n",
       "    <tr>\n",
       "      <th>3</th>\n",
       "      <td>11750000</td>\n",
       "      <td>17</td>\n",
       "      <td>17</td>\n",
       "      <td>3</td>\n",
       "      <td>76.6</td>\n",
       "      <td>11.0</td>\n",
       "      <td>0</td>\n",
       "      <td>18.752424</td>\n",
       "      <td>0</td>\n",
       "      <td>0</td>\n",
       "      <td>0</td>\n",
       "      <td>0</td>\n",
       "      <td>0</td>\n",
       "      <td>0</td>\n",
       "      <td>1</td>\n",
       "      <td>0</td>\n",
       "    </tr>\n",
       "    <tr>\n",
       "      <th>4</th>\n",
       "      <td>11000000</td>\n",
       "      <td>2</td>\n",
       "      <td>9</td>\n",
       "      <td>3</td>\n",
       "      <td>55.1</td>\n",
       "      <td>6.0</td>\n",
       "      <td>0</td>\n",
       "      <td>17.394805</td>\n",
       "      <td>0</td>\n",
       "      <td>0</td>\n",
       "      <td>0</td>\n",
       "      <td>0</td>\n",
       "      <td>0</td>\n",
       "      <td>0</td>\n",
       "      <td>0</td>\n",
       "      <td>0</td>\n",
       "    </tr>\n",
       "    <tr>\n",
       "      <th>...</th>\n",
       "      <td>...</td>\n",
       "      <td>...</td>\n",
       "      <td>...</td>\n",
       "      <td>...</td>\n",
       "      <td>...</td>\n",
       "      <td>...</td>\n",
       "      <td>...</td>\n",
       "      <td>...</td>\n",
       "      <td>...</td>\n",
       "      <td>...</td>\n",
       "      <td>...</td>\n",
       "      <td>...</td>\n",
       "      <td>...</td>\n",
       "      <td>...</td>\n",
       "      <td>...</td>\n",
       "      <td>...</td>\n",
       "    </tr>\n",
       "    <tr>\n",
       "      <th>23633</th>\n",
       "      <td>15500000</td>\n",
       "      <td>7</td>\n",
       "      <td>17</td>\n",
       "      <td>2</td>\n",
       "      <td>58.0</td>\n",
       "      <td>10.0</td>\n",
       "      <td>0</td>\n",
       "      <td>22.291040</td>\n",
       "      <td>1</td>\n",
       "      <td>0</td>\n",
       "      <td>0</td>\n",
       "      <td>0</td>\n",
       "      <td>0</td>\n",
       "      <td>0</td>\n",
       "      <td>0</td>\n",
       "      <td>0</td>\n",
       "    </tr>\n",
       "    <tr>\n",
       "      <th>23634</th>\n",
       "      <td>13500000</td>\n",
       "      <td>1</td>\n",
       "      <td>5</td>\n",
       "      <td>1</td>\n",
       "      <td>47.2</td>\n",
       "      <td>10.0</td>\n",
       "      <td>0</td>\n",
       "      <td>5.146934</td>\n",
       "      <td>0</td>\n",
       "      <td>0</td>\n",
       "      <td>0</td>\n",
       "      <td>0</td>\n",
       "      <td>1</td>\n",
       "      <td>0</td>\n",
       "      <td>0</td>\n",
       "      <td>0</td>\n",
       "    </tr>\n",
       "    <tr>\n",
       "      <th>23635</th>\n",
       "      <td>18500000</td>\n",
       "      <td>10</td>\n",
       "      <td>14</td>\n",
       "      <td>2</td>\n",
       "      <td>53.0</td>\n",
       "      <td>9.0</td>\n",
       "      <td>0</td>\n",
       "      <td>8.618141</td>\n",
       "      <td>0</td>\n",
       "      <td>0</td>\n",
       "      <td>1</td>\n",
       "      <td>0</td>\n",
       "      <td>0</td>\n",
       "      <td>0</td>\n",
       "      <td>0</td>\n",
       "      <td>0</td>\n",
       "    </tr>\n",
       "    <tr>\n",
       "      <th>23636</th>\n",
       "      <td>8100000</td>\n",
       "      <td>7</td>\n",
       "      <td>9</td>\n",
       "      <td>2</td>\n",
       "      <td>44.8</td>\n",
       "      <td>6.0</td>\n",
       "      <td>0</td>\n",
       "      <td>19.853448</td>\n",
       "      <td>0</td>\n",
       "      <td>0</td>\n",
       "      <td>0</td>\n",
       "      <td>0</td>\n",
       "      <td>0</td>\n",
       "      <td>0</td>\n",
       "      <td>1</td>\n",
       "      <td>0</td>\n",
       "    </tr>\n",
       "    <tr>\n",
       "      <th>23637</th>\n",
       "      <td>19800000</td>\n",
       "      <td>3</td>\n",
       "      <td>9</td>\n",
       "      <td>2</td>\n",
       "      <td>44.2</td>\n",
       "      <td>0.0</td>\n",
       "      <td>0</td>\n",
       "      <td>5.939567</td>\n",
       "      <td>1</td>\n",
       "      <td>0</td>\n",
       "      <td>0</td>\n",
       "      <td>0</td>\n",
       "      <td>0</td>\n",
       "      <td>0</td>\n",
       "      <td>0</td>\n",
       "      <td>0</td>\n",
       "    </tr>\n",
       "  </tbody>\n",
       "</table>\n",
       "<p>23638 rows × 16 columns</p>\n",
       "</div>"
      ],
      "text/plain": [
       "          price  floor  n_floors  rooms  area  kitchen_area  object_type  \\\n",
       "0      25173570     19        22      2  90.5           0.0            1   \n",
       "1       6418000     21        32     -1  20.0           5.0            1   \n",
       "2      21000000      4        18      4  92.9          12.0            0   \n",
       "3      11750000     17        17      3  76.6          11.0            0   \n",
       "4      11000000      2         9      3  55.1           6.0            0   \n",
       "...         ...    ...       ...    ...   ...           ...          ...   \n",
       "23633  15500000      7        17      2  58.0          10.0            0   \n",
       "23634  13500000      1         5      1  47.2          10.0            0   \n",
       "23635  18500000     10        14      2  53.0           9.0            0   \n",
       "23636   8100000      7         9      2  44.8           6.0            0   \n",
       "23637  19800000      3         9      2  44.2           0.0            0   \n",
       "\n",
       "             gap  district_ЗАО  district_САО  district_СВАО  district_СЗАО  \\\n",
       "0      11.039047             1             0              0              0   \n",
       "1      11.864770             0             0              0              0   \n",
       "2      17.906452             0             0              0              0   \n",
       "3      18.752424             0             0              0              0   \n",
       "4      17.394805             0             0              0              0   \n",
       "...          ...           ...           ...            ...            ...   \n",
       "23633  22.291040             1             0              0              0   \n",
       "23634   5.146934             0             0              0              0   \n",
       "23635   8.618141             0             0              1              0   \n",
       "23636  19.853448             0             0              0              0   \n",
       "23637   5.939567             1             0              0              0   \n",
       "\n",
       "       district_ЦАО  district_ЮАО  district_ЮВАО  district_ЮЗАО  \n",
       "0                 0             0              0              0  \n",
       "1                 0             0              0              0  \n",
       "2                 0             0              1              0  \n",
       "3                 0             0              1              0  \n",
       "4                 0             0              0              0  \n",
       "...             ...           ...            ...            ...  \n",
       "23633             0             0              0              0  \n",
       "23634             1             0              0              0  \n",
       "23635             0             0              0              0  \n",
       "23636             0             0              1              0  \n",
       "23637             0             0              0              0  \n",
       "\n",
       "[23638 rows x 16 columns]"
      ]
     },
     "execution_count": 73,
     "metadata": {},
     "output_type": "execute_result"
    }
   ],
   "source": [
    "our_df2.drop(['date'], axis=1, inplace=True)\n",
    "our_df2"
   ]
  },
  {
   "cell_type": "markdown",
   "id": "19239bab",
   "metadata": {},
   "source": [
    "### Для начала попробуем обычную модель линейной регрессии для датафрейма our_df2."
   ]
  },
  {
   "cell_type": "code",
   "execution_count": 74,
   "id": "c84638f5",
   "metadata": {},
   "outputs": [],
   "source": [
    "from sklearn.model_selection import train_test_split \n",
    "\n",
    "# делим в пропорции 80 к 20\n",
    "df_train, df_test = train_test_split(our_df2, test_size = 0.2, random_state=42)"
   ]
  },
  {
   "cell_type": "code",
   "execution_count": 75,
   "id": "2d16e8fd",
   "metadata": {},
   "outputs": [],
   "source": [
    "y_train = df_train['price'].to_numpy()\n",
    "y_test = df_test['price'].to_numpy()\n",
    "\n",
    "X_train = df_train.drop('price', axis=1).to_numpy()\n",
    "X_test = df_test.drop('price', axis=1).to_numpy()\n",
    "\n"
   ]
  },
  {
   "cell_type": "code",
   "execution_count": 76,
   "id": "f00ce03b",
   "metadata": {},
   "outputs": [],
   "source": [
    "from sklearn.linear_model import LinearRegression\n",
    "\n",
    "model_regression = LinearRegression()\n",
    " \n",
    "model_regression.fit(X_train, y_train)\n",
    "y_pred = model_regression.predict(X_test)"
   ]
  },
  {
   "cell_type": "code",
   "execution_count": 77,
   "id": "b46899fb",
   "metadata": {
    "scrolled": true
   },
   "outputs": [
    {
     "data": {
      "text/plain": [
       "array([ 1.52443921e+05, -5.56854510e+05, -9.74515248e+06,  8.89382264e+05,\n",
       "        1.13345072e+04, -1.54802990e+06, -3.42970050e+05, -3.28313906e+06,\n",
       "       -3.92130005e+06, -4.53400881e+06, -2.02097972e+06,  1.76775241e+07,\n",
       "       -2.30263108e+06, -1.64603592e+06, -3.05989053e+06])"
      ]
     },
     "execution_count": 77,
     "metadata": {},
     "output_type": "execute_result"
    }
   ],
   "source": [
    "model_regression.coef_ "
   ]
  },
  {
   "cell_type": "code",
   "execution_count": 78,
   "id": "a688914d",
   "metadata": {},
   "outputs": [
    {
     "data": {
      "text/plain": [
       "-3240753.3917960487"
      ]
     },
     "execution_count": 78,
     "metadata": {},
     "output_type": "execute_result"
    }
   ],
   "source": [
    "model_regression.intercept_"
   ]
  },
  {
   "cell_type": "code",
   "execution_count": 79,
   "id": "9a347a3e",
   "metadata": {},
   "outputs": [],
   "source": [
    "from sklearn.metrics import mean_squared_error, mean_absolute_error, r2_score"
   ]
  },
  {
   "cell_type": "code",
   "execution_count": 80,
   "id": "61111c9b",
   "metadata": {
    "scrolled": true
   },
   "outputs": [
    {
     "data": {
      "text/plain": [
       "(1377893546305200.2, 13870656.883429538, 0.6138849065939385)"
      ]
     },
     "execution_count": 80,
     "metadata": {},
     "output_type": "execute_result"
    }
   ],
   "source": [
    "mean_squared_error(y_test, y_pred), mean_absolute_error(y_test, y_pred), r2_score(y_test, y_pred)"
   ]
  },
  {
   "cell_type": "code",
   "execution_count": 81,
   "id": "feafa8f8",
   "metadata": {},
   "outputs": [
    {
     "data": {
      "text/plain": [
       "0.6375237525282295"
      ]
     },
     "execution_count": 81,
     "metadata": {},
     "output_type": "execute_result"
    }
   ],
   "source": [
    "from sklearn.metrics import mean_absolute_percentage_error\n",
    "mean_absolute_percentage_error(y_test, y_pred)"
   ]
  },
  {
   "cell_type": "markdown",
   "id": "dccf5e9e",
   "metadata": {},
   "source": [
    "Видим, что значения коэффициентов и метрик очень большие. Попробуем применить другой вид регрессии и поработать с данными, чтобы улучшить качество модели. "
   ]
  },
  {
   "cell_type": "markdown",
   "id": "090e318d",
   "metadata": {},
   "source": [
    "### Начнем со стандартизации значений, применив StandardScaler."
   ]
  },
  {
   "cell_type": "code",
   "execution_count": 82,
   "id": "da45fa50",
   "metadata": {},
   "outputs": [],
   "source": [
    "from sklearn.preprocessing import StandardScaler #отскалируем (нормализуем) данные \n",
    "\n",
    "scaler = StandardScaler()\n",
    "\n",
    "\n",
    "our_df3 = scaler.fit_transform(our_df2[['floor', 'n_floors', 'rooms', 'area', 'kitchen_area', 'gap']])\n",
    "our_df4 = pd.DataFrame(our_df3, columns = [['floor', 'n_floors', 'rooms', 'area', 'kitchen_area', 'gap']])"
   ]
  },
  {
   "cell_type": "code",
   "execution_count": 84,
   "id": "a61ce3be",
   "metadata": {
    "scrolled": false
   },
   "outputs": [
    {
     "data": {
      "text/html": [
       "<div>\n",
       "<style scoped>\n",
       "    .dataframe tbody tr th:only-of-type {\n",
       "        vertical-align: middle;\n",
       "    }\n",
       "\n",
       "    .dataframe tbody tr th {\n",
       "        vertical-align: top;\n",
       "    }\n",
       "\n",
       "    .dataframe thead th {\n",
       "        text-align: right;\n",
       "    }\n",
       "</style>\n",
       "<table border=\"1\" class=\"dataframe\">\n",
       "  <thead>\n",
       "    <tr style=\"text-align: right;\">\n",
       "      <th></th>\n",
       "      <th>(floor,)</th>\n",
       "      <th>(n_floors,)</th>\n",
       "      <th>(rooms,)</th>\n",
       "      <th>(area,)</th>\n",
       "      <th>(kitchen_area,)</th>\n",
       "      <th>(gap,)</th>\n",
       "      <th>object_type</th>\n",
       "      <th>district_ЗАО</th>\n",
       "      <th>district_САО</th>\n",
       "      <th>district_СВАО</th>\n",
       "      <th>district_СЗАО</th>\n",
       "      <th>district_ЦАО</th>\n",
       "      <th>district_ЮАО</th>\n",
       "      <th>district_ЮВАО</th>\n",
       "      <th>district_ЮЗАО</th>\n",
       "    </tr>\n",
       "  </thead>\n",
       "  <tbody>\n",
       "    <tr>\n",
       "      <th>0</th>\n",
       "      <td>1.387298</td>\n",
       "      <td>0.496297</td>\n",
       "      <td>-0.081725</td>\n",
       "      <td>0.368492</td>\n",
       "      <td>0.192861</td>\n",
       "      <td>-0.498080</td>\n",
       "      <td>1</td>\n",
       "      <td>1</td>\n",
       "      <td>0</td>\n",
       "      <td>0</td>\n",
       "      <td>0</td>\n",
       "      <td>0</td>\n",
       "      <td>0</td>\n",
       "      <td>0</td>\n",
       "      <td>0</td>\n",
       "    </tr>\n",
       "    <tr>\n",
       "      <th>1</th>\n",
       "      <td>1.655977</td>\n",
       "      <td>1.528570</td>\n",
       "      <td>-2.430909</td>\n",
       "      <td>-1.039794</td>\n",
       "      <td>0.318289</td>\n",
       "      <td>-0.361130</td>\n",
       "      <td>1</td>\n",
       "      <td>0</td>\n",
       "      <td>0</td>\n",
       "      <td>0</td>\n",
       "      <td>0</td>\n",
       "      <td>0</td>\n",
       "      <td>0</td>\n",
       "      <td>0</td>\n",
       "      <td>0</td>\n",
       "    </tr>\n",
       "    <tr>\n",
       "      <th>2</th>\n",
       "      <td>-0.627795</td>\n",
       "      <td>0.083388</td>\n",
       "      <td>1.484398</td>\n",
       "      <td>0.416434</td>\n",
       "      <td>0.493890</td>\n",
       "      <td>0.640915</td>\n",
       "      <td>0</td>\n",
       "      <td>0</td>\n",
       "      <td>0</td>\n",
       "      <td>0</td>\n",
       "      <td>0</td>\n",
       "      <td>0</td>\n",
       "      <td>0</td>\n",
       "      <td>1</td>\n",
       "      <td>0</td>\n",
       "    </tr>\n",
       "    <tr>\n",
       "      <th>3</th>\n",
       "      <td>1.118619</td>\n",
       "      <td>-0.019839</td>\n",
       "      <td>0.701337</td>\n",
       "      <td>0.090830</td>\n",
       "      <td>0.468804</td>\n",
       "      <td>0.781223</td>\n",
       "      <td>0</td>\n",
       "      <td>0</td>\n",
       "      <td>0</td>\n",
       "      <td>0</td>\n",
       "      <td>0</td>\n",
       "      <td>0</td>\n",
       "      <td>0</td>\n",
       "      <td>1</td>\n",
       "      <td>0</td>\n",
       "    </tr>\n",
       "    <tr>\n",
       "      <th>4</th>\n",
       "      <td>-0.896474</td>\n",
       "      <td>-0.845657</td>\n",
       "      <td>0.701337</td>\n",
       "      <td>-0.338647</td>\n",
       "      <td>0.343375</td>\n",
       "      <td>0.556055</td>\n",
       "      <td>0</td>\n",
       "      <td>0</td>\n",
       "      <td>0</td>\n",
       "      <td>0</td>\n",
       "      <td>0</td>\n",
       "      <td>0</td>\n",
       "      <td>0</td>\n",
       "      <td>0</td>\n",
       "      <td>0</td>\n",
       "    </tr>\n",
       "    <tr>\n",
       "      <th>...</th>\n",
       "      <td>...</td>\n",
       "      <td>...</td>\n",
       "      <td>...</td>\n",
       "      <td>...</td>\n",
       "      <td>...</td>\n",
       "      <td>...</td>\n",
       "      <td>...</td>\n",
       "      <td>...</td>\n",
       "      <td>...</td>\n",
       "      <td>...</td>\n",
       "      <td>...</td>\n",
       "      <td>...</td>\n",
       "      <td>...</td>\n",
       "      <td>...</td>\n",
       "      <td>...</td>\n",
       "    </tr>\n",
       "    <tr>\n",
       "      <th>23633</th>\n",
       "      <td>-0.224776</td>\n",
       "      <td>-0.019839</td>\n",
       "      <td>-0.081725</td>\n",
       "      <td>-0.280718</td>\n",
       "      <td>0.443718</td>\n",
       "      <td>1.368121</td>\n",
       "      <td>0</td>\n",
       "      <td>1</td>\n",
       "      <td>0</td>\n",
       "      <td>0</td>\n",
       "      <td>0</td>\n",
       "      <td>0</td>\n",
       "      <td>0</td>\n",
       "      <td>0</td>\n",
       "      <td>0</td>\n",
       "    </tr>\n",
       "    <tr>\n",
       "      <th>23634</th>\n",
       "      <td>-1.030813</td>\n",
       "      <td>-1.258567</td>\n",
       "      <td>-0.864786</td>\n",
       "      <td>-0.496455</td>\n",
       "      <td>0.443718</td>\n",
       "      <td>-1.475318</td>\n",
       "      <td>0</td>\n",
       "      <td>0</td>\n",
       "      <td>0</td>\n",
       "      <td>0</td>\n",
       "      <td>0</td>\n",
       "      <td>1</td>\n",
       "      <td>0</td>\n",
       "      <td>0</td>\n",
       "      <td>0</td>\n",
       "    </tr>\n",
       "    <tr>\n",
       "      <th>23635</th>\n",
       "      <td>0.178242</td>\n",
       "      <td>-0.329521</td>\n",
       "      <td>-0.081725</td>\n",
       "      <td>-0.380596</td>\n",
       "      <td>0.418632</td>\n",
       "      <td>-0.899600</td>\n",
       "      <td>0</td>\n",
       "      <td>0</td>\n",
       "      <td>0</td>\n",
       "      <td>1</td>\n",
       "      <td>0</td>\n",
       "      <td>0</td>\n",
       "      <td>0</td>\n",
       "      <td>0</td>\n",
       "      <td>0</td>\n",
       "    </tr>\n",
       "    <tr>\n",
       "      <th>23636</th>\n",
       "      <td>-0.224776</td>\n",
       "      <td>-0.845657</td>\n",
       "      <td>-0.081725</td>\n",
       "      <td>-0.544397</td>\n",
       "      <td>0.343375</td>\n",
       "      <td>0.963834</td>\n",
       "      <td>0</td>\n",
       "      <td>0</td>\n",
       "      <td>0</td>\n",
       "      <td>0</td>\n",
       "      <td>0</td>\n",
       "      <td>0</td>\n",
       "      <td>0</td>\n",
       "      <td>1</td>\n",
       "      <td>0</td>\n",
       "    </tr>\n",
       "    <tr>\n",
       "      <th>23637</th>\n",
       "      <td>-0.762134</td>\n",
       "      <td>-0.845657</td>\n",
       "      <td>-0.081725</td>\n",
       "      <td>-0.556382</td>\n",
       "      <td>0.192861</td>\n",
       "      <td>-1.343855</td>\n",
       "      <td>0</td>\n",
       "      <td>1</td>\n",
       "      <td>0</td>\n",
       "      <td>0</td>\n",
       "      <td>0</td>\n",
       "      <td>0</td>\n",
       "      <td>0</td>\n",
       "      <td>0</td>\n",
       "      <td>0</td>\n",
       "    </tr>\n",
       "  </tbody>\n",
       "</table>\n",
       "<p>23638 rows × 15 columns</p>\n",
       "</div>"
      ],
      "text/plain": [
       "       (floor,)  (n_floors,)  (rooms,)   (area,)  (kitchen_area,)    (gap,)  \\\n",
       "0      1.387298     0.496297 -0.081725  0.368492         0.192861 -0.498080   \n",
       "1      1.655977     1.528570 -2.430909 -1.039794         0.318289 -0.361130   \n",
       "2     -0.627795     0.083388  1.484398  0.416434         0.493890  0.640915   \n",
       "3      1.118619    -0.019839  0.701337  0.090830         0.468804  0.781223   \n",
       "4     -0.896474    -0.845657  0.701337 -0.338647         0.343375  0.556055   \n",
       "...         ...          ...       ...       ...              ...       ...   \n",
       "23633 -0.224776    -0.019839 -0.081725 -0.280718         0.443718  1.368121   \n",
       "23634 -1.030813    -1.258567 -0.864786 -0.496455         0.443718 -1.475318   \n",
       "23635  0.178242    -0.329521 -0.081725 -0.380596         0.418632 -0.899600   \n",
       "23636 -0.224776    -0.845657 -0.081725 -0.544397         0.343375  0.963834   \n",
       "23637 -0.762134    -0.845657 -0.081725 -0.556382         0.192861 -1.343855   \n",
       "\n",
       "       object_type  district_ЗАО  district_САО  district_СВАО  district_СЗАО  \\\n",
       "0                1             1             0              0              0   \n",
       "1                1             0             0              0              0   \n",
       "2                0             0             0              0              0   \n",
       "3                0             0             0              0              0   \n",
       "4                0             0             0              0              0   \n",
       "...            ...           ...           ...            ...            ...   \n",
       "23633            0             1             0              0              0   \n",
       "23634            0             0             0              0              0   \n",
       "23635            0             0             0              1              0   \n",
       "23636            0             0             0              0              0   \n",
       "23637            0             1             0              0              0   \n",
       "\n",
       "       district_ЦАО  district_ЮАО  district_ЮВАО  district_ЮЗАО  \n",
       "0                 0             0              0              0  \n",
       "1                 0             0              0              0  \n",
       "2                 0             0              1              0  \n",
       "3                 0             0              1              0  \n",
       "4                 0             0              0              0  \n",
       "...             ...           ...            ...            ...  \n",
       "23633             0             0              0              0  \n",
       "23634             1             0              0              0  \n",
       "23635             0             0              0              0  \n",
       "23636             0             0              1              0  \n",
       "23637             0             0              0              0  \n",
       "\n",
       "[23638 rows x 15 columns]"
      ]
     },
     "execution_count": 84,
     "metadata": {},
     "output_type": "execute_result"
    }
   ],
   "source": [
    "our_df5 = pd.merge(our_df4, our_df2[['object_type', 'district_ЗАО', 'district_САО', 'district_СВАО', 'district_СЗАО', 'district_ЦАО', 'district_ЮАО', 'district_ЮВАО', 'district_ЮЗАО']], left_index=True, right_index=True)\n",
    "our_df5"
   ]
  },
  {
   "cell_type": "code",
   "execution_count": 85,
   "id": "0882e952",
   "metadata": {
    "scrolled": true
   },
   "outputs": [],
   "source": [
    "our_df6 = pd.merge(our_df5, our_df2[['price']], left_index=True, right_index=True)\n",
    "#  our_df6"
   ]
  },
  {
   "cell_type": "code",
   "execution_count": 86,
   "id": "4bfea469",
   "metadata": {},
   "outputs": [],
   "source": [
    "\n",
    "# делим в пропорции 80 к 20\n",
    "df_train, df_test = train_test_split(our_df6, test_size = 0.2, random_state=42)\n",
    "\n",
    "y_train = df_train['price'].to_numpy()\n",
    "y_test = df_test['price'].to_numpy()\n",
    "\n",
    "X_train = df_train.drop('price', axis=1).to_numpy()\n",
    "X_test = df_test.drop('price', axis=1).to_numpy()\n",
    "\n",
    "from sklearn.linear_model import LinearRegression \n",
    "model_regression = LinearRegression()\n",
    "\n",
    "\n",
    "model_regression.fit(X_train, y_train)\n",
    " \n",
    "y_pred = model_regression.predict(X_test)"
   ]
  },
  {
   "cell_type": "code",
   "execution_count": 87,
   "id": "fe70bc1d",
   "metadata": {},
   "outputs": [
    {
     "data": {
      "text/plain": [
       "array([  1134766.00657729,  -5394451.44381657, -12444940.23673061,\n",
       "        44523213.12925376,    451830.41730013,  -2067888.56460271,\n",
       "        -1548029.90075058,  -3283139.06346085,  -3921300.04753783,\n",
       "        -4534008.81214284,  -2020979.72095047,  17677524.06994531,\n",
       "        -2302631.07566212,  -1646035.91788027,  -3059890.5338977 ])"
      ]
     },
     "execution_count": 87,
     "metadata": {},
     "output_type": "execute_result"
    }
   ],
   "source": [
    "model_regression.coef_ "
   ]
  },
  {
   "cell_type": "code",
   "execution_count": 88,
   "id": "b0b1f069",
   "metadata": {
    "scrolled": true
   },
   "outputs": [
    {
     "data": {
      "text/plain": [
       "27179961.314211752"
      ]
     },
     "execution_count": 88,
     "metadata": {},
     "output_type": "execute_result"
    }
   ],
   "source": [
    "model_regression.intercept_"
   ]
  },
  {
   "cell_type": "code",
   "execution_count": 89,
   "id": "fc871a92",
   "metadata": {
    "scrolled": true
   },
   "outputs": [
    {
     "data": {
      "text/plain": [
       "(1377893546305198.2, 13870656.883429587, 0.6138849065939391)"
      ]
     },
     "execution_count": 89,
     "metadata": {},
     "output_type": "execute_result"
    }
   ],
   "source": [
    "mean_squared_error(y_test, y_pred), mean_absolute_error(y_test, y_pred), r2_score(y_test, y_pred)"
   ]
  },
  {
   "cell_type": "code",
   "execution_count": 90,
   "id": "8a41fe21",
   "metadata": {},
   "outputs": [
    {
     "data": {
      "text/plain": [
       "0.6375237525282322"
      ]
     },
     "execution_count": 90,
     "metadata": {},
     "output_type": "execute_result"
    }
   ],
   "source": [
    "mean_absolute_percentage_error(y_test, y_pred)"
   ]
  },
  {
   "cell_type": "markdown",
   "id": "4cbfa6e2",
   "metadata": {},
   "source": [
    "Значения коэффициентов уменьшились, но метрики все еще показывают плохое качество модели. "
   ]
  },
  {
   "cell_type": "markdown",
   "id": "650ed158",
   "metadata": {},
   "source": [
    "### Попробуем применить Lasso и Ridge регрессии и посмотрим, есть ли изменения."
   ]
  },
  {
   "cell_type": "code",
   "execution_count": 91,
   "id": "cfd3f195",
   "metadata": {},
   "outputs": [],
   "source": [
    "from sklearn.linear_model import Lasso\n",
    "\n",
    "model = Lasso(alpha=200)\n",
    "\n",
    "model.fit(X_train, y_train)\n",
    "y_pred = model.predict(X_test)\n"
   ]
  },
  {
   "cell_type": "code",
   "execution_count": 92,
   "id": "c27420ad",
   "metadata": {},
   "outputs": [
    {
     "data": {
      "text/plain": [
       "array([  1134201.25646619,  -5394327.49397854, -12443921.53220077,\n",
       "        44522202.78573978,    451612.26344839,  -2067341.94752101,\n",
       "        -1546811.9809373 ,  -3271750.24354394,  -3909631.22284382,\n",
       "        -4521963.70555529,  -2006587.41668024,  17687735.87911611,\n",
       "        -2289709.23231137,  -1633502.43502535,  -3044059.26341389])"
      ]
     },
     "execution_count": 92,
     "metadata": {},
     "output_type": "execute_result"
    }
   ],
   "source": [
    "model.coef_"
   ]
  },
  {
   "cell_type": "code",
   "execution_count": 93,
   "id": "396810e9",
   "metadata": {},
   "outputs": [
    {
     "data": {
      "text/plain": [
       "27169139.760130964"
      ]
     },
     "execution_count": 93,
     "metadata": {},
     "output_type": "execute_result"
    }
   ],
   "source": [
    "model.intercept_"
   ]
  },
  {
   "cell_type": "code",
   "execution_count": 94,
   "id": "92fe5489",
   "metadata": {},
   "outputs": [
    {
     "data": {
      "text/plain": [
       "(1377907017597333.8, 13870340.319131557, 0.613881131651212)"
      ]
     },
     "execution_count": 94,
     "metadata": {},
     "output_type": "execute_result"
    }
   ],
   "source": [
    "mean_squared_error(y_test, y_pred), mean_absolute_error(y_test, y_pred), r2_score(y_test, y_pred)"
   ]
  },
  {
   "cell_type": "code",
   "execution_count": 95,
   "id": "4124ae0a",
   "metadata": {
    "scrolled": true
   },
   "outputs": [
    {
     "data": {
      "text/plain": [
       "0.6374910469957983"
      ]
     },
     "execution_count": 95,
     "metadata": {},
     "output_type": "execute_result"
    }
   ],
   "source": [
    "mean_absolute_percentage_error(y_test, y_pred)"
   ]
  },
  {
   "cell_type": "code",
   "execution_count": 96,
   "id": "002eccc9",
   "metadata": {},
   "outputs": [],
   "source": [
    "from sklearn.linear_model import Ridge\n",
    "\n",
    "model = Ridge(alpha=200) \n",
    "\n",
    "model.fit(X_train, y_train)\n",
    "y_pred = model.predict(X_test)\n"
   ]
  },
  {
   "cell_type": "code",
   "execution_count": 97,
   "id": "8e37f971",
   "metadata": {},
   "outputs": [
    {
     "data": {
      "text/plain": [
       "array([  1046500.82994291,  -5245187.4944571 , -11383386.14321538,\n",
       "        43268797.71251725,    384283.63488312,  -2531030.03214664,\n",
       "        -1535755.41543653,  -2515656.78193105,  -3702072.1765831 ,\n",
       "        -4319780.48980881,  -1438580.75102622,  16501775.56729578,\n",
       "        -1977637.41309607,  -1430949.44951832,  -2406327.00422639])"
      ]
     },
     "execution_count": 97,
     "metadata": {},
     "output_type": "execute_result"
    }
   ],
   "source": [
    "model.coef_"
   ]
  },
  {
   "cell_type": "code",
   "execution_count": 98,
   "id": "6d00cd6b",
   "metadata": {},
   "outputs": [
    {
     "data": {
      "text/plain": [
       "27075057.969625514"
      ]
     },
     "execution_count": 98,
     "metadata": {},
     "output_type": "execute_result"
    }
   ],
   "source": [
    "model.intercept_"
   ]
  },
  {
   "cell_type": "code",
   "execution_count": 99,
   "id": "5e0848c9",
   "metadata": {},
   "outputs": [
    {
     "data": {
      "text/plain": [
       "(1390833622588007.5, 13628715.530518292, 0.6102588218532012)"
      ]
     },
     "execution_count": 99,
     "metadata": {},
     "output_type": "execute_result"
    }
   ],
   "source": [
    "mean_squared_error(y_test, y_pred), mean_absolute_error(y_test, y_pred), r2_score(y_test, y_pred)"
   ]
  },
  {
   "cell_type": "code",
   "execution_count": 100,
   "id": "451d2b1f",
   "metadata": {},
   "outputs": [
    {
     "data": {
      "text/plain": [
       "0.6171240167581463"
      ]
     },
     "execution_count": 100,
     "metadata": {},
     "output_type": "execute_result"
    }
   ],
   "source": [
    "from sklearn.metrics import mean_absolute_percentage_error\n",
    "mean_absolute_percentage_error(y_test, y_pred)"
   ]
  },
  {
   "cell_type": "markdown",
   "id": "032417a4",
   "metadata": {},
   "source": [
    "Видим, что значения метрик немного лучше, чем в предыдущих, однако наша модель ошибается в среднем на 60%. Мы подумали, что большое кол-во колонок может мешать обучению модели, а информация о районе может быть отображена в колонке gap."
   ]
  },
  {
   "cell_type": "markdown",
   "id": "cb96c0a7",
   "metadata": {},
   "source": [
    "### МО без переменной district"
   ]
  },
  {
   "cell_type": "code",
   "execution_count": 101,
   "id": "10c619a8",
   "metadata": {},
   "outputs": [],
   "source": [
    "our_df2.drop(['district_ЗАО', 'district_САО', 'district_СВАО', 'district_СЗАО', 'district_ЦАО', 'district_ЮАО', 'district_ЮВАО', 'district_ЮЗАО'], axis = 1, inplace = True)\n",
    "#  our_df2"
   ]
  },
  {
   "cell_type": "code",
   "execution_count": 102,
   "id": "87d54252",
   "metadata": {},
   "outputs": [],
   "source": [
    "from sklearn.model_selection import train_test_split \n",
    "\n",
    "# делим в пропорции 80 к 20\n",
    "df_train, df_test = train_test_split(our_df2, test_size = 0.2, random_state=42)"
   ]
  },
  {
   "cell_type": "code",
   "execution_count": 103,
   "id": "326d3c19",
   "metadata": {},
   "outputs": [],
   "source": [
    "y_train = df_train['price'].to_numpy()\n",
    "y_test = df_test['price'].to_numpy()\n",
    "\n",
    "X_train = df_train.drop('price', axis=1).to_numpy()\n",
    "X_test = df_test.drop('price', axis=1).to_numpy()"
   ]
  },
  {
   "cell_type": "code",
   "execution_count": 104,
   "id": "981a02a7",
   "metadata": {},
   "outputs": [],
   "source": [
    "from sklearn.linear_model import LinearRegression\n",
    "model_regression = LinearRegression()\n",
    " \n",
    "model_regression.fit(X_train, y_train)\n",
    "\n",
    "y_pred = model_regression.predict(X_test)"
   ]
  },
  {
   "cell_type": "code",
   "execution_count": 105,
   "id": "a2ef0aa9",
   "metadata": {},
   "outputs": [
    {
     "data": {
      "text/plain": [
       "array([ 1.11666901e+05, -5.56867144e+05, -1.00206792e+07,  9.16819549e+05,\n",
       "        8.21882793e+03, -2.40502016e+06, -9.29788535e+05])"
      ]
     },
     "execution_count": 105,
     "metadata": {},
     "output_type": "execute_result"
    }
   ],
   "source": [
    "model_regression.coef_ "
   ]
  },
  {
   "cell_type": "code",
   "execution_count": 106,
   "id": "2f5ac8d6",
   "metadata": {},
   "outputs": [
    {
     "data": {
      "text/plain": [
       "4626925.128027134"
      ]
     },
     "execution_count": 106,
     "metadata": {},
     "output_type": "execute_result"
    }
   ],
   "source": [
    "model_regression.intercept_"
   ]
  },
  {
   "cell_type": "code",
   "execution_count": 107,
   "id": "f1e8ed51",
   "metadata": {},
   "outputs": [
    {
     "data": {
      "text/plain": [
       "0.6635114986317856"
      ]
     },
     "execution_count": 107,
     "metadata": {},
     "output_type": "execute_result"
    }
   ],
   "source": [
    "from sklearn.metrics import mean_absolute_percentage_error\n",
    "mean_absolute_percentage_error(y_test, y_pred)"
   ]
  },
  {
   "cell_type": "markdown",
   "id": "4b34681b",
   "metadata": {},
   "source": [
    "Lasso:"
   ]
  },
  {
   "cell_type": "code",
   "execution_count": 108,
   "id": "1d0abbab",
   "metadata": {},
   "outputs": [],
   "source": [
    "from sklearn.linear_model import Lasso\n",
    "\n",
    "model = Lasso(alpha=200)\n",
    "\n",
    "model.fit(X_train, y_train)\n",
    "y_pred = model.predict(X_test)\n"
   ]
  },
  {
   "cell_type": "code",
   "execution_count": 109,
   "id": "9e868f28",
   "metadata": {},
   "outputs": [
    {
     "data": {
      "text/plain": [
       "array([ 1.11652023e+05, -5.56878722e+05, -1.00203802e+07,  9.16814229e+05,\n",
       "        8.22282037e+03, -2.40346849e+06, -9.29780890e+05])"
      ]
     },
     "execution_count": 109,
     "metadata": {},
     "output_type": "execute_result"
    }
   ],
   "source": [
    "model.coef_"
   ]
  },
  {
   "cell_type": "code",
   "execution_count": 110,
   "id": "1972b70e",
   "metadata": {},
   "outputs": [
    {
     "data": {
      "text/plain": [
       "4626925.128027134"
      ]
     },
     "execution_count": 110,
     "metadata": {},
     "output_type": "execute_result"
    }
   ],
   "source": [
    "model_regression.intercept_"
   ]
  },
  {
   "cell_type": "code",
   "execution_count": 111,
   "id": "6c9fb023",
   "metadata": {
    "scrolled": true
   },
   "outputs": [
    {
     "data": {
      "text/plain": [
       "0.6635074636711162"
      ]
     },
     "execution_count": 111,
     "metadata": {},
     "output_type": "execute_result"
    }
   ],
   "source": [
    "from sklearn.metrics import mean_absolute_percentage_error\n",
    "mean_absolute_percentage_error(y_test, y_pred)"
   ]
  },
  {
   "cell_type": "markdown",
   "id": "505c9f4a",
   "metadata": {},
   "source": [
    "Ridge:"
   ]
  },
  {
   "cell_type": "code",
   "execution_count": 113,
   "id": "f6dae9f6",
   "metadata": {},
   "outputs": [],
   "source": [
    "from sklearn.linear_model import Ridge\n",
    "\n",
    "model = Ridge(alpha=200) \n",
    "\n",
    "model.fit(X_train, y_train)\n",
    "y_pred = model.predict(X_test)\n"
   ]
  },
  {
   "cell_type": "code",
   "execution_count": 114,
   "id": "f02a6687",
   "metadata": {},
   "outputs": [
    {
     "data": {
      "text/plain": [
       "4515255.318547353"
      ]
     },
     "execution_count": 114,
     "metadata": {},
     "output_type": "execute_result"
    }
   ],
   "source": [
    "model.intercept_"
   ]
  },
  {
   "cell_type": "code",
   "execution_count": 115,
   "id": "2689511e",
   "metadata": {},
   "outputs": [
    {
     "data": {
      "text/plain": [
       "array([ 1.10104978e+05, -5.58265969e+05, -9.87132776e+06,  9.14005966e+05,\n",
       "        8.35665758e+03, -2.22031859e+06, -9.29822365e+05])"
      ]
     },
     "execution_count": 115,
     "metadata": {},
     "output_type": "execute_result"
    }
   ],
   "source": [
    "model.coef_"
   ]
  },
  {
   "cell_type": "code",
   "execution_count": 116,
   "id": "6efbd40f",
   "metadata": {},
   "outputs": [
    {
     "data": {
      "text/plain": [
       "(1430158445108598.8, 14145319.704593247, 0.5992391697462367)"
      ]
     },
     "execution_count": 116,
     "metadata": {},
     "output_type": "execute_result"
    }
   ],
   "source": [
    "mean_squared_error(y_test, y_pred), mean_absolute_error(y_test, y_pred), r2_score(y_test, y_pred)"
   ]
  },
  {
   "cell_type": "code",
   "execution_count": 117,
   "id": "bd4d7d21",
   "metadata": {},
   "outputs": [
    {
     "data": {
      "text/plain": [
       "0.6618789437300623"
      ]
     },
     "execution_count": 117,
     "metadata": {},
     "output_type": "execute_result"
    }
   ],
   "source": [
    "from sklearn.metrics import mean_absolute_percentage_error\n",
    "mean_absolute_percentage_error(y_test, y_pred)"
   ]
  },
  {
   "cell_type": "markdown",
   "id": "74c165a0",
   "metadata": {},
   "source": [
    "К сожалению, удаление дамми-переменных только ухудшило и без того плохое качество модели. Это логично, так как переменная gap отражает только расстояние, которое может откладываться в любую сторону от центра, то есть на самом деле она не содержит информацию об округе. На данном этапе мы не знаем, как улучшить нашу модель, но это означает лишь то, что у проекта есть потенциал для дальнейшего развития."
   ]
  },
  {
   "cell_type": "markdown",
   "id": "ab18fa24",
   "metadata": {},
   "source": [
    "## Послесловие:"
   ]
  },
  {
   "cell_type": "markdown",
   "id": "0e047bae",
   "metadata": {},
   "source": [
    "Нам кажется, что рассматривать зависимость цены на квартиру от округа Москвы, в котором она расположена, не совсем корректно, потому что даже внутри одного округа цены на квартиры распределены неравномерно: в зависимости от разных инфраструктурных и экологических факторов. Для более точных результатов нужно проводить анализ с помощью кластеризации более мелких территориальных единиц (например, районов) по совокупности таких факторов, как наличие поликлиник/школ/детских садов вблизи дома, уровень загрязненности воздуха (близость к промышленным предприятиям), тип застройки, возраст дома, наличие развлекательной инфраструктуры. "
   ]
  },
  {
   "cell_type": "markdown",
   "id": "5821be75",
   "metadata": {},
   "source": [
    "Данную информацию мы узнали из презентации магистерской работы на лекции по теории вероятностей. "
   ]
  }
 ],
 "metadata": {
  "kernelspec": {
   "display_name": "Python 3 (ipykernel)",
   "language": "python",
   "name": "python3"
  },
  "language_info": {
   "codemirror_mode": {
    "name": "ipython",
    "version": 3
   },
   "file_extension": ".py",
   "mimetype": "text/x-python",
   "name": "python",
   "nbconvert_exporter": "python",
   "pygments_lexer": "ipython3",
   "version": "3.9.7"
  }
 },
 "nbformat": 4,
 "nbformat_minor": 5
}
